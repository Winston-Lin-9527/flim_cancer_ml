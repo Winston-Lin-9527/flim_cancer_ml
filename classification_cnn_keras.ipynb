{
  "cells": [
    {
      "cell_type": "code",
      "execution_count": 7,
      "metadata": {
        "colab": {
          "base_uri": "https://localhost:8080/"
        },
        "execution": {
          "iopub.execute_input": "2022-12-14T02:27:14.111888Z",
          "iopub.status.busy": "2022-12-14T02:27:14.111457Z",
          "iopub.status.idle": "2022-12-14T02:27:16.410779Z",
          "shell.execute_reply": "2022-12-14T02:27:16.410127Z"
        },
        "id": "L1WtoaOHVrVh",
        "outputId": "5f8a9de7-b561-44cc-e724-006ca7e082cb"
      },
      "outputs": [
        {
          "name": "stdout",
          "output_type": "stream",
          "text": [
            "Enabling notebook extension jupyter-js-widgets/extension...\n",
            "Paths used for configuration of notebook: \n",
            "    \t/root/.jupyter/nbconfig/notebook.json\n",
            "Paths used for configuration of notebook: \n",
            "    \t\n",
            "      - Validating: \u001b[32mOK\u001b[0m\n",
            "Paths used for configuration of notebook: \n",
            "    \t/root/.jupyter/nbconfig/notebook.json\n"
          ]
        }
      ],
      "source": [
        "import matplotlib.pyplot as plt\n",
        "import numpy as np\n",
        "from sklearn.model_selection import train_test_split\n",
        "import PIL\n",
        "import tensorflow as tf\n",
        "\n",
        "from tensorflow import keras\n",
        "from tensorflow.keras import layers\n",
        "from tensorflow.keras.models import Sequential\n",
        "\n",
        "import math\n",
        "import random\n",
        "import matplotlib.pyplot as plt\n",
        "plt.rcParams[\"figure.figsize\"] = (20,5)\n",
        "import pandas\n",
        "from matplotlib import cm\n",
        "from matplotlib.colors import Normalize\n",
        "from pandas import DataFrame as df\n",
        "import numpy as np\n",
        "import os\n",
        "\n",
        "from tqdm.notebook import tqdm, trange\n",
        "!jupyter nbextension enable --py widgetsnbextension\n",
        "\n",
        "np.set_printoptions(precision=3, suppress=True)"
      ]
    },
    {
      "cell_type": "code",
      "execution_count": 2,
      "metadata": {
        "colab": {
          "base_uri": "https://localhost:8080/"
        },
        "id": "Od0UEFSuOStg",
        "outputId": "7d2d5fbc-6649-40c8-ffe0-060802f5ffd5"
      },
      "outputs": [
        {
          "name": "stdout",
          "output_type": "stream",
          "text": [
            "Mounted at /content/drive\n",
            "cp: cannot stat '/content/drive/flim_lung.zip': No such file or directory\n",
            "'/content/drive/MyDrive/flim_lung.zip' -> './flim_lung.zip'\n",
            "ls: cannot access 'flim_lung': No such file or directory\n",
            "All changes made in this colab session should now be visible in Drive.\n"
          ]
        }
      ],
      "source": [
        "# from google.colab import drive\n",
        "# drive.mount('/content/drive')\n",
        "# !cp /content/drive/flim_lung.zip ./flim_lung.zip\n",
        "# %cp -v \"/content/drive/MyDrive/flim_lung.zip\" \"./flim_lung.zip\"\n",
        "# !unzip -q flim_lung.zip\n",
        "# !ls flim_lung\n",
        "# !rm -f flim_lung.zip\n",
        "\n",
        "# drive.flush_and_unmount()\n",
        "# print('All changes made in this colab session should now be visible in Drive.')"
      ]
    },
    {
      "cell_type": "code",
      "execution_count": 3,
      "metadata": {
        "id": "6h_kjuy3N-mo"
      },
      "outputs": [],
      "source": [
        "# parameters\n",
        "\n",
        "INTENSITY_MASK_THRESHOLD = 0.05 # after intensity normalized to [0, 1]\n",
        "\n",
        "# hyper\n",
        "BATCH_SIZE = 8\n",
        "SHUFFLE_BUF_SIZE = 1000\n",
        "TRAIN_PROPORTION = 0.8 # 80% training, 20% validation"
      ]
    },
    {
      "cell_type": "code",
      "execution_count": 4,
      "metadata": {
        "id": "XrGP6C4xN-mo"
      },
      "outputs": [],
      "source": [
        "def load_data(data_file=\"./sample_data/sample_data.csv\"):\n",
        "    # load data in csv file into DataFrame\n",
        "    df = pandas.read_csv(data_file)\n",
        "    print(f\"Data loaded: {df.shape}\")\n",
        "    return df\n",
        "\n",
        "#data = load_data('./dataset/20181023_lungtissue_normal_cancer_CR34.csv')\n",
        "# data = load_data()"
      ]
    },
    {
      "cell_type": "code",
      "execution_count": 5,
      "metadata": {
        "id": "HwObjn6GN-mo"
      },
      "outputs": [],
      "source": [
        "def parse_data(df_table: df):\n",
        "    # parse data in DataFrame into numpy.ndarray\n",
        "    assert (df_table is not None)\n",
        "\n",
        "    tissue_class_column_np = [1 if x else 0 for x in df_table.loc[:, \"tissue_classification\"]] # label\n",
        "    # 1 : tissue classification\n",
        "    # 2 : band\n",
        "    # 3 : exposure time\n",
        "\n",
        "    pixel_starting = 4\n",
        "    pixel_ending = len(df_table.columns)\n",
        "    pixel_columns_np = df_table.iloc[:, pixel_starting:pixel_ending].values\n",
        "\n",
        "    intensity_data = pixel_columns_np[:, 0:128 * 128] # first 128x128 pixels are intensity\n",
        "    lifetime_data = pixel_columns_np[:, 128 * 128:pixel_columns_np.shape[1]] # the rest is lifetime\n",
        "\n",
        "    return np.asarray(intensity_data), np.asarray(lifetime_data), np.asarray(tissue_class_column_np)\n",
        "\n",
        "# intensity, lifetime, classes = parse_data(data) # each frame's lifetime and intensity shape: (16384, ), which is 128x128\n",
        "# print(\"# Frames: \", intensity.shape[0])"
      ]
    },
    {
      "cell_type": "code",
      "execution_count": 6,
      "metadata": {
        "id": "q1KeBhJhN-mp"
      },
      "outputs": [],
      "source": [
        "# call once for each frame\n",
        "def post_processing(intensity: np.ndarray, lifetime: np.ndarray):\n",
        "    # replace nan with 0\n",
        "    intensity[np.isnan(intensity)] = 0.0\n",
        "    lifetime[np.isnan(lifetime)] = 0.0\n",
        "\n",
        "    mask = (intensity > 0)\n",
        "    # use root mean square of intensity as filter mask\n",
        "    threshold = math.sqrt(np.ma.array(intensity, mask=mask).mean())\n",
        "    # for all frames, pixels whose intensity below threshold have their lifetime and intensity is set to 0\n",
        "    intensity[intensity < threshold] = 0     # i think this line is unnecessary ~\n",
        "\n",
        "    for i in range(intensity.shape[0]):\n",
        "        if intensity[i] < threshold:\n",
        "            intensity[i] = 0\n",
        "            lifetime[i] = 0\n",
        "\n",
        "    lifetime[lifetime > 5] = 0 # lifetime too long are also ignored\n",
        "\n",
        "    intensity = np.resize(intensity, (128, 128))\n",
        "    lifetime = np.resize(lifetime, (128, 128))\n",
        "\n",
        "    ## lifetime: grey to rgb\n",
        "    mask = np.resize(mask.astype(int), (128, 128))\n",
        "    norm = Normalize(vmin=0.0, vmax=1.0) # used to be 255.0\n",
        "    lifetime_color = cm.jet(norm(lifetime))\n",
        "\n",
        "    # --------\n",
        "    lifetime_color_rgb = lifetime_color[:, :, 0:3] # essentially discards the alpha channel, only need RGB\n",
        "    lifetime_color_rgb[:, :, 0] *= mask\n",
        "    lifetime_color_rgb[:, :, 1] *= mask\n",
        "    lifetime_color_rgb[:, :, 2] *= mask\n",
        "    # ... what's the point of lifetime_color_rgb ??\n",
        "    # --------\n",
        "\n",
        "    # print((lifetime_color[:, :, 3]==1).all()) # all\n",
        "    ## weighting\n",
        "    bgcolor = 255 # white background\n",
        "    intensity_alpha_mask = intensity/intensity.max() # normalize intensity to between 0 and 1\n",
        "    intensity_alpha_mask[intensity_alpha_mask < INTENSITY_MASK_THRESHOLD] = 0 # those below 0.05 ignored\n",
        "    lifetime_alpha_rgb = np.zeros(intensity_alpha_mask.shape + (3,)) # why not just lifetime_color_rgb.shape?\n",
        "    # recalculate the rgb but incorporate the mask\n",
        "    lifetime_alpha_rgb[:, :, 0] = ((1 - lifetime_color[:, :, 3]) * bgcolor) + intensity_alpha_mask * lifetime_color[:, :, 0]\n",
        "    lifetime_alpha_rgb[:, :, 0] *= mask\n",
        "    lifetime_alpha_rgb[:, :, 1] = ((1 - lifetime_color[:, :, 3]) * bgcolor) + intensity_alpha_mask * lifetime_color[:, :, 1]\n",
        "    lifetime_alpha_rgb[:, :, 1] *= mask\n",
        "    lifetime_alpha_rgb[:, :, 2] = ((1 - lifetime_color[:, :, 3]) * bgcolor) + intensity_alpha_mask * lifetime_color[:, :, 2]\n",
        "    lifetime_alpha_rgb[:, :, 2] *= mask\n",
        "    # print(np.zeros(lifetime_color_rgb.shape).shape)\n",
        "\n",
        "    # lifetime_alpha_rgb: the main output for use\n",
        "    return intensity, lifetime, lifetime_alpha_rgb, intensity_alpha_mask\n",
        "\n",
        "# which frame to view\n",
        "# index = 10\n",
        "# temp_it, temp_lt, temp_lt_alpha, mask = post_processing(intensity[index], lifetime[index])\n",
        "# temp_lt_alpha.shape"
      ]
    },
    {
      "cell_type": "code",
      "execution_count": null,
      "metadata": {
        "id": "5ASF5RWXN-mp"
      },
      "outputs": [],
      "source": [
        "image_list = []\n",
        "label_list = []\n",
        "\n",
        "# think: use np.concatenate([a, b]) instead?\n",
        "# todo: loop for each csv\n",
        "\n",
        "directory = './dataset'\n",
        "c = 4 # only the first n CSV files\n",
        "i = 0\n",
        "\n",
        "for csv in os.listdir(directory):\n",
        "    filename = os.path.join(directory, csv)\n",
        "    # checking if it is a file\n",
        "    if os.path.isfile(filename):\n",
        "        print(filename)\n",
        "        if i == c:\n",
        "            break # skip the rest\n",
        "        i += 1\n",
        "\n",
        "        data = load_data(data_file=filename)\n",
        "        intensity, lifetime, classes = parse_data(data)\n",
        "        for frameIdx in trange(lifetime.shape[0]):\n",
        "            temp_it, temp_lt, temp_lt_alpha, mask = post_processing(intensity[frameIdx], lifetime[frameIdx])\n",
        "            image_list.append(temp_lt_alpha)\n",
        "        label_list.append(classes)\n",
        "\n",
        "features = np.array(image_list)\n",
        "labels = np.concatenate(label_list)\n",
        "print(len(features))"
      ]
    },
    {
      "cell_type": "code",
      "execution_count": 8,
      "metadata": {
        "id": "QFlM9L5ZN-mp"
      },
      "outputs": [],
      "source": [
        "# import glob\n",
        "\n",
        "# class CustomDataset(tf.keras.utils.Sequence):\n",
        "#     def __init__(self, data_dir, sample_limit, batch_size, validation_split=0.2):\n",
        "#         self.data_dir = data_dir\n",
        "#         self.sample_limit = sample_limit\n",
        "#         self.batch_size = batch_size\n",
        "#         self.file_list = glob.glob(data_dir + '/*.csv')  # Assuming frames are in PNG format\n",
        "#         self.num_samples = len(self.file_list)\n",
        "\n",
        "#         self.validation_split = validation_split\n",
        "#         self.train_frame_filenames, self.val_frame_filenames = train_test_split(\n",
        "#             self.file_list, test_size=self.validation_split, random_state=42)\n",
        "\n",
        "#     # returns the number of batches\n",
        "#     def __len__(self):\n",
        "#         # return int(tf.math.ceil(self.num_samples / self.batch_size))\n",
        "\n",
        "#         if self.mode == 'train':\n",
        "#             return math.ceil(len(self.train_frame_filenames) / self.batch_size) # self.batch_size\n",
        "#         elif self.mode == 'val':\n",
        "#             return math.ceil(len(self.val_frame_filenames) / self.batch_size) # self.batch_size\n",
        "\n",
        "#     def __getitem__(self, idx):\n",
        "#         # batch_files = self.file_list[idx * self.batch_size: (idx + 1) * self.batch_size]\n",
        "#         if self.mode == 'train':\n",
        "#             batch_files = self.train_frame_filenames[idx * self.batch_size: (idx + 1) * self.batch_size]\n",
        "#         else:\n",
        "#             batch_files = self.val_frame_filenames[idx * self.batch_size: (idx + 1) * self.batch_size]\n",
        "\n",
        "#         # frames\n",
        "#         batch_frames = []\n",
        "#         batch_labels = []\n",
        "\n",
        "#         i = 0\n",
        "#         for file_path in batch_files:\n",
        "#             if i == self.sample_limit:\n",
        "#                 break\n",
        "#             i += 1\n",
        "\n",
        "#             # Load frame\n",
        "#             # frame = cv2.imread(file_path, cv2.IMREAD_GRAYSCALE)  # Assuming grayscale frames\n",
        "#             # frame = frame / 255.0  # Normalize the frame values (0-255 to 0-1)\n",
        "#             # batch_frames.append(frame)\n",
        "\n",
        "#             # Extract label from file name (assuming file name format: 'label_frameXXX.png')\n",
        "#             # label = int(file_path.split('_')[0])\n",
        "#             # batch_labels.append(label)\n",
        "\n",
        "#             data = load_data(data_file=file_path)\n",
        "#             intensity, lifetime, classes = parse_data(data)\n",
        "#             for frameIdx in trange(lifetime.shape[0]):\n",
        "#                 temp_it, temp_lt, temp_lt_alpha, mask = post_processing(intensity[frameIdx], lifetime[frameIdx])\n",
        "#                 batch_frames.append(temp_lt_alpha)\n",
        "#                 del temp_it, temp_lt, temp_lt_alpha, mask\n",
        "#             batch_labels.append(classes)\n",
        "\n",
        "#         return np.array(batch_frames), np.array(batch_labels)\n",
        "\n",
        "#     def set_mode(self, mode):\n",
        "#         if mode not in ['train', 'val']:\n",
        "#             raise ValueError(\"Invalid mode. Must be either 'train' or 'val'.\")\n",
        "#         self.mode = mode\n",
        "\n",
        "# # Usage example\n",
        "# data_dir = './'\n",
        "# sample_limit = 4 # only load the first n csv\n",
        "# batch_size = 1\n",
        "# dataset = CustomDataset(data_dir, sample_limit, batch_size)\n",
        "\n",
        "# # Iterate over the dataset\n",
        "# # for frames, labels in dataset:\n",
        "# #     # Perform further processing or use the frames and labels in your model training\n",
        "# #     # frames shape: (batch_size, 128, 128)\n",
        "# #     # labels shape: (batch_size,)\n",
        "# #     print(f'{len(frames)}, label: {labels}')\n"
      ]
    },
    {
      "cell_type": "code",
      "execution_count": null,
      "metadata": {
        "id": "d4r0Mjx-N-mq",
        "outputId": "ad72c6a7-ed89-4e4c-884b-9a83297bab68"
      },
      "outputs": [
        {
          "data": {
            "text/plain": [
              "Text(0.5, 1.0, 'Weighted lifetime')"
            ]
          },
          "execution_count": 7,
          "metadata": {},
          "output_type": "execute_result"
        },
        {
          "data": {
            "image/png": "[encoded data removed]",
            "text/plain": [
              "<Figure size 2000x500 with 1 Axes>"
            ]
          },
          "metadata": {},
          "output_type": "display_data"
        }
      ],
      "source": [
        "# plt.subplot(155)\n",
        "# plt.imshow(features[4], cmap=\"jet\", vmin=0.5)\n",
        "# plt.title(\"Weighted lifetime\")"
      ]
    },
    {
      "cell_type": "markdown",
      "metadata": {
        "id": "xyDNn9MbIzfT"
      },
      "source": [
        "### Create a dataset"
      ]
    },
    {
      "cell_type": "markdown",
      "metadata": {
        "id": "anqiK_AGI086"
      },
      "source": [
        "Define some parameters for the loader:"
      ]
    },
    {
      "cell_type": "code",
      "execution_count": 9,
      "metadata": {
        "execution": {
          "iopub.execute_input": "2022-12-14T02:27:19.429716Z",
          "iopub.status.busy": "2022-12-14T02:27:19.429227Z",
          "iopub.status.idle": "2022-12-14T02:27:19.432268Z",
          "shell.execute_reply": "2022-12-14T02:27:19.431713Z"
        },
        "id": "H74l2DoDI2XD"
      },
      "outputs": [],
      "source": [
        "# batch_size = 3\n",
        "img_height = 128\n",
        "img_width = 128"
      ]
    },
    {
      "cell_type": "code",
      "execution_count": null,
      "metadata": {
        "id": "-Ao2sO9TN-ms",
        "outputId": "2e11bc1b-8767-4758-8cb0-bbacbb231a4b"
      },
      "outputs": [
        {
          "data": {
            "text/plain": [
              "(4326, 128, 128, 3)"
            ]
          },
          "execution_count": 9,
          "metadata": {},
          "output_type": "execute_result"
        }
      ],
      "source": [
        "features.shape"
      ]
    },
    {
      "cell_type": "code",
      "execution_count": 10,
      "metadata": {
        "colab": {
          "base_uri": "https://localhost:8080/",
          "height": 402
        },
        "id": "_zxAnYUSN-ms",
        "outputId": "443c1265-a8e7-4c1a-f3fd-6b753729f51f"
      },
      "outputs": [
        {
          "ename": "TypeError",
          "evalue": "ignored",
          "output_type": "error",
          "traceback": [
            "\u001b[0;31m---------------------------------------------------------------------------\u001b[0m",
            "\u001b[0;31mTypeError\u001b[0m                                 Traceback (most recent call last)",
            "\u001b[0;32m<ipython-input-10-1e257c39b8cf>\u001b[0m in \u001b[0;36m<cell line: 20>\u001b[0;34m()\u001b[0m\n\u001b[1;32m     18\u001b[0m \u001b[0;34m\u001b[0m\u001b[0m\n\u001b[1;32m     19\u001b[0m \u001b[0;31m# split\u001b[0m\u001b[0;34m\u001b[0m\u001b[0;34m\u001b[0m\u001b[0m\n\u001b[0;32m---> 20\u001b[0;31m \u001b[0mtrain_ds\u001b[0m\u001b[0;34m,\u001b[0m \u001b[0mval_ds\u001b[0m \u001b[0;34m=\u001b[0m \u001b[0mtf\u001b[0m\u001b[0;34m.\u001b[0m\u001b[0mkeras\u001b[0m\u001b[0;34m.\u001b[0m\u001b[0mutils\u001b[0m\u001b[0;34m.\u001b[0m\u001b[0msplit_dataset\u001b[0m\u001b[0;34m(\u001b[0m\u001b[0mdataset\u001b[0m\u001b[0;34m,\u001b[0m \u001b[0mleft_size\u001b[0m\u001b[0;34m=\u001b[0m\u001b[0mTRAIN_PROPORTION\u001b[0m\u001b[0;34m)\u001b[0m\u001b[0;34m\u001b[0m\u001b[0;34m\u001b[0m\u001b[0m\n\u001b[0m\u001b[1;32m     21\u001b[0m \u001b[0mint\u001b[0m\u001b[0;34m(\u001b[0m\u001b[0mtrain_ds\u001b[0m\u001b[0;34m.\u001b[0m\u001b[0mcardinality\u001b[0m\u001b[0;34m(\u001b[0m\u001b[0;34m)\u001b[0m\u001b[0;34m)\u001b[0m\u001b[0;34m\u001b[0m\u001b[0;34m\u001b[0m\u001b[0m\n",
            "\u001b[0;32m/usr/local/lib/python3.10/dist-packages/keras/utils/dataset_utils.py\u001b[0m in \u001b[0;36msplit_dataset\u001b[0;34m(dataset, left_size, right_size, shuffle, seed)\u001b[0m\n\u001b[1;32m     66\u001b[0m \u001b[0;34m\u001b[0m\u001b[0m\n\u001b[1;32m     67\u001b[0m     \u001b[0;32mif\u001b[0m \u001b[0mdataset_type_spec\u001b[0m \u001b[0;32mnot\u001b[0m \u001b[0;32min\u001b[0m \u001b[0;34m[\u001b[0m\u001b[0mtf\u001b[0m\u001b[0;34m.\u001b[0m\u001b[0mdata\u001b[0m\u001b[0;34m.\u001b[0m\u001b[0mDataset\u001b[0m\u001b[0;34m,\u001b[0m \u001b[0mlist\u001b[0m\u001b[0;34m,\u001b[0m \u001b[0mtuple\u001b[0m\u001b[0;34m,\u001b[0m \u001b[0mnp\u001b[0m\u001b[0;34m.\u001b[0m\u001b[0mndarray\u001b[0m\u001b[0;34m]\u001b[0m\u001b[0;34m:\u001b[0m\u001b[0;34m\u001b[0m\u001b[0;34m\u001b[0m\u001b[0m\n\u001b[0;32m---> 68\u001b[0;31m         raise TypeError(\n\u001b[0m\u001b[1;32m     69\u001b[0m             \u001b[0;34m\"The `dataset` argument must be either a `tf.data.Dataset` \"\u001b[0m\u001b[0;34m\u001b[0m\u001b[0;34m\u001b[0m\u001b[0m\n\u001b[1;32m     70\u001b[0m             \u001b[0;34m\"object or a list/tuple of arrays. \"\u001b[0m\u001b[0;34m\u001b[0m\u001b[0;34m\u001b[0m\u001b[0m\n",
            "\u001b[0;31mTypeError\u001b[0m: The `dataset` argument must be either a `tf.data.Dataset` object or a list/tuple of arrays. Received: dataset=<__main__.CustomDataset object at 0x7eff289b6ec0> of type <class '__main__.CustomDataset'>"
          ]
        }
      ],
      "source": [
        "import tensorflow as tf\n",
        "\n",
        "# features = tf.constant(features)\n",
        "# labels = tf.constant(labels)\n",
        "\n",
        "# ds = tf.data.Dataset.from_tensor_slices(\n",
        "#     (features, labels)\n",
        "# )\n",
        "\n",
        "# transform\n",
        "\n",
        "\n",
        "# shuffle (done later)\n",
        "# ds = ds.shuffle(SHUFFLE_BUF_SIZE, reshuffle_each_iteration=True)\n",
        "\n",
        "# batch\n",
        "# ds = ds.batch(BATCH_SIZE)\n",
        "\n",
        "# split\n",
        "train_ds, val_ds = tf.keras.utils.split_dataset(dataset, left_size=TRAIN_PROPORTION)\n",
        "int(train_ds.cardinality())\n"
      ]
    },
    {
      "cell_type": "markdown",
      "metadata": {
        "id": "_uoVvxSLJW9m"
      },
      "source": [
        "## Visualize the data\n",
        "\n",
        "Here are the first nine images from the training dataset:"
      ]
    },
    {
      "cell_type": "code",
      "execution_count": null,
      "metadata": {
        "id": "fVCz6Dc8N-ms",
        "outputId": "b2368fbf-69d4-4a36-de76-ba82f6efac4e"
      },
      "outputs": [
        {
          "data": {
            "text/plain": [
              "(64, 128, 128, 3)"
            ]
          },
          "execution_count": 112,
          "metadata": {},
          "output_type": "execute_result"
        }
      ],
      "source": [
        "images = list(ds.as_numpy_iterator())\n",
        "images[0][0].shape"
      ]
    },
    {
      "cell_type": "code",
      "execution_count": null,
      "metadata": {
        "execution": {
          "iopub.execute_input": "2022-12-14T02:27:23.298434Z",
          "iopub.status.busy": "2022-12-14T02:27:23.297969Z",
          "iopub.status.idle": "2022-12-14T02:27:24.290205Z",
          "shell.execute_reply": "2022-12-14T02:27:24.289531Z"
        },
        "id": "wBmEA9c0JYes",
        "outputId": "41bb0182-eefc-4703-8025-879515c5d797"
      },
      "outputs": [
        {
          "name": "stderr",
          "output_type": "stream",
          "text": [
            "/tmp/ipykernel_826894/3523736039.py:21: MatplotlibDeprecationWarning: Auto-removal of overlapping axes is deprecated since 3.6 and will be removed two minor releases later; explicitly call ax.remove() as needed.\n",
            "  ax = plt.subplot(3, 5, i+1)\n"
          ]
        },
        {
          "data": {
            "image/png": "[encoded data removed]",
            "text/plain": [
              "<Figure size 2000x500 with 5 Axes>"
            ]
          },
          "metadata": {},
          "output_type": "display_data"
        }
      ],
      "source": [
        "import matplotlib.pyplot as plt\n",
        "\n",
        "# plt.figure(figsize=(10, 10))\n",
        "# for images, labels in train_ds.take(1):\n",
        "#   for i in range(9):\n",
        "#     ax = plt.subplot(3, 3, i + 1)\n",
        "#     plt.imshow(images[i].numpy().astype(\"uint8\"), cmap=\"hot\")\n",
        "#     # plt.title(class_names[labels[i]])\n",
        "#     plt.axis(\"off\")\n",
        "\n",
        "images = list(ds.as_numpy_iterator())\n",
        "# plt.subplot(155)\n",
        "# plt.imshow(images[0][0], cmap=\"jet\", vmin=0.5)\n",
        "plt.title(\"Weighted lifetime\")\n",
        "# for i in range(min(len(images), 15)):\n",
        "#     ax = plt.subplot(3, 5, i+1)\n",
        "#     plt.imshow(images[i][0], cmap=\"jet\")\n",
        "#     plt.title(images[i][1])\n",
        "batch_idx = random.randint(0, len(features) // BATCH_SIZE)\n",
        "for i in range(min(BATCH_SIZE, 15)):\n",
        "    ax = plt.subplot(3, 5, i+1)\n",
        "    plt.imshow(images[batch_idx][0][i], cmap=\"jet\")\n",
        "    plt.title(images[batch_idx][1][i])\n",
        "# todo: remove the textual representation of the tensors"
      ]
    },
    {
      "cell_type": "markdown",
      "metadata": {
        "id": "5M6BXtXFJdW0"
      },
      "source": [
        "You will pass these datasets to the Keras `Model.fit` method for training later in this tutorial. If you like, you can also manually iterate over the dataset and retrieve batches of images:"
      ]
    },
    {
      "cell_type": "code",
      "execution_count": null,
      "metadata": {
        "execution": {
          "iopub.execute_input": "2022-12-14T02:27:24.305825Z",
          "iopub.status.busy": "2022-12-14T02:27:24.305511Z",
          "iopub.status.idle": "2022-12-14T02:27:24.375988Z",
          "shell.execute_reply": "2022-12-14T02:27:24.375169Z"
        },
        "id": "2-MfMoenJi8s",
        "outputId": "08268d0d-ac34-4a63-dabf-20e79c58ba88"
      },
      "outputs": [
        {
          "name": "stdout",
          "output_type": "stream",
          "text": [
            "(64, 128, 128, 3)\n",
            "(64,)\n"
          ]
        }
      ],
      "source": [
        "for image_batch, labels_batch in train_ds:\n",
        "  print(image_batch.shape)\n",
        "  print(labels_batch.shape)\n",
        "  break"
      ]
    },
    {
      "cell_type": "code",
      "execution_count": null,
      "metadata": {
        "execution": {
          "iopub.execute_input": "2022-12-14T02:27:24.380073Z",
          "iopub.status.busy": "2022-12-14T02:27:24.379474Z",
          "iopub.status.idle": "2022-12-14T02:27:24.390876Z",
          "shell.execute_reply": "2022-12-14T02:27:24.390174Z"
        },
        "id": "nOjJSm7DKoZA"
      },
      "outputs": [],
      "source": [
        "AUTOTUNE = tf.data.AUTOTUNE\n",
        "\n",
        "train_ds = train_ds.cache().shuffle(1000).prefetch(buffer_size=AUTOTUNE)\n",
        "val_ds = val_ds.cache().prefetch(buffer_size=AUTOTUNE)"
      ]
    },
    {
      "cell_type": "markdown",
      "metadata": {
        "id": "8GUnmPF4JvEf"
      },
      "source": [
        "## Standardize the data"
      ]
    },
    {
      "cell_type": "code",
      "execution_count": null,
      "metadata": {
        "execution": {
          "iopub.execute_input": "2022-12-14T02:27:24.394439Z",
          "iopub.status.busy": "2022-12-14T02:27:24.393861Z",
          "iopub.status.idle": "2022-12-14T02:27:24.399785Z",
          "shell.execute_reply": "2022-12-14T02:27:24.399157Z"
        },
        "id": "PEYxo2CTJvY9"
      },
      "outputs": [],
      "source": [
        "# normalization_layer = layers.Rescaling(1./255)\n",
        "normalization_layer = layers.Rescaling(1) # since already done earlier"
      ]
    },
    {
      "cell_type": "code",
      "execution_count": null,
      "metadata": {
        "execution": {
          "iopub.execute_input": "2022-12-14T02:27:24.403279Z",
          "iopub.status.busy": "2022-12-14T02:27:24.402817Z",
          "iopub.status.idle": "2022-12-14T02:27:24.873519Z",
          "shell.execute_reply": "2022-12-14T02:27:24.872667Z"
        },
        "id": "X9o9ESaJJ502",
        "outputId": "359478c1-92ee-4049-ed0a-9464b81c192c"
      },
      "outputs": [
        {
          "name": "stdout",
          "output_type": "stream",
          "text": [
            "nan nan\n"
          ]
        }
      ],
      "source": [
        "normalized_ds = train_ds.map(lambda x, y: (normalization_layer(x), y))\n",
        "image_batch, labels_batch = next(iter(normalized_ds))\n",
        "first_image = image_batch[0]\n",
        "# Notice the pixel values are now in `[0,1]`.\n",
        "print(np.min(first_image), np.max(first_image))"
      ]
    },
    {
      "cell_type": "markdown",
      "metadata": {
        "id": "WcUTyDOPKucd"
      },
      "source": [
        "## A basic Keras model"
      ]
    },
    {
      "cell_type": "code",
      "execution_count": 11,
      "metadata": {
        "execution": {
          "iopub.execute_input": "2022-12-14T02:27:24.877717Z",
          "iopub.status.busy": "2022-12-14T02:27:24.877009Z",
          "iopub.status.idle": "2022-12-14T02:27:24.979357Z",
          "shell.execute_reply": "2022-12-14T02:27:24.978648Z"
        },
        "id": "QR6argA1K074"
      },
      "outputs": [],
      "source": [
        "num_classes = 2\n",
        "\n",
        "model = Sequential([\n",
        "  # layers.Rescaling(1./255, input_shape=(img_height, img_width, 3)),\n",
        "  # layers.Conv2D(16, 3, padding='same', activation='relu'),\n",
        "  # layers.MaxPooling2D(),\n",
        "  # layers.Conv2D(32, 3, padding='same', activation='relu'),\n",
        "  # layers.MaxPooling2D(),\n",
        "  # layers.Conv2D(64, 3, padding='same', activation='relu'),\n",
        "  # layers.MaxPooling2D(),\n",
        "  # layers.Flatten(),\n",
        "  # layers.Dense(128, activation='relu'),\n",
        "  # layers.Dense(num_classes)\n",
        "\n",
        "  layers.Conv2D(2, 3, padding='same', activation='relu'),\n",
        "  layers.MaxPooling2D(),\n",
        "  layers.Conv2D(4, 3, padding='same', activation='relu'),\n",
        "  layers.MaxPooling2D(),\n",
        "  layers.Conv2D(8, 3, padding='same', activation='relu'),\n",
        "  layers.MaxPooling2D(),\n",
        "  layers.Conv2D(16, 3, padding='same', activation='relu'),\n",
        "  layers.MaxPooling2D(),\n",
        "  layers.Flatten(),\n",
        "  layers.Dense(4, activation='relu'),\n",
        "  layers.Dense(num_classes)\n",
        "])"
      ]
    },
    {
      "cell_type": "markdown",
      "metadata": {
        "id": "EaKFzz72Lqpg"
      },
      "source": [
        "### Compile the model"
      ]
    },
    {
      "cell_type": "code",
      "execution_count": 12,
      "metadata": {
        "execution": {
          "iopub.execute_input": "2022-12-14T02:27:24.983314Z",
          "iopub.status.busy": "2022-12-14T02:27:24.982805Z",
          "iopub.status.idle": "2022-12-14T02:27:24.995898Z",
          "shell.execute_reply": "2022-12-14T02:27:24.995232Z"
        },
        "id": "jloGNS1MLx3A"
      },
      "outputs": [],
      "source": [
        "model.compile(optimizer='adam',\n",
        "              loss=tf.keras.losses.SparseCategoricalCrossentropy(from_logits=True),\n",
        "              metrics=['accuracy'])"
      ]
    },
    {
      "cell_type": "markdown",
      "metadata": {
        "id": "aMJ4DnuJL55A"
      },
      "source": [
        "### Model summary"
      ]
    },
    {
      "cell_type": "code",
      "execution_count": 13,
      "metadata": {
        "colab": {
          "base_uri": "https://localhost:8080/"
        },
        "execution": {
          "iopub.execute_input": "2022-12-14T02:27:24.999284Z",
          "iopub.status.busy": "2022-12-14T02:27:24.998809Z",
          "iopub.status.idle": "2022-12-14T02:27:25.018527Z",
          "shell.execute_reply": "2022-12-14T02:27:25.017911Z"
        },
        "id": "llLYH-BXL7Xe",
        "outputId": "02ae2d32-de94-4bb0-a15f-4d04063cf954"
      },
      "outputs": [
        {
          "name": "stdout",
          "output_type": "stream",
          "text": [
            "Model: \"sequential\"\n",
            "_________________________________________________________________\n",
            " Layer (type)                Output Shape              Param #   \n",
            "=================================================================\n",
            " conv2d (Conv2D)             (None, 128, 128, 2)       56        \n",
            "                                                                 \n",
            " max_pooling2d (MaxPooling2D  (None, 64, 64, 2)        0         \n",
            " )                                                               \n",
            "                                                                 \n",
            " conv2d_1 (Conv2D)           (None, 64, 64, 4)         76        \n",
            "                                                                 \n",
            " max_pooling2d_1 (MaxPooling  (None, 32, 32, 4)        0         \n",
            " 2D)                                                             \n",
            "                                                                 \n",
            " conv2d_2 (Conv2D)           (None, 32, 32, 8)         296       \n",
            "                                                                 \n",
            " max_pooling2d_2 (MaxPooling  (None, 16, 16, 8)        0         \n",
            " 2D)                                                             \n",
            "                                                                 \n",
            " conv2d_3 (Conv2D)           (None, 16, 16, 16)        1168      \n",
            "                                                                 \n",
            " max_pooling2d_3 (MaxPooling  (None, 8, 8, 16)         0         \n",
            " 2D)                                                             \n",
            "                                                                 \n",
            " flatten (Flatten)           (None, 1024)              0         \n",
            "                                                                 \n",
            " dense (Dense)               (None, 4)                 4100      \n",
            "                                                                 \n",
            " dense_1 (Dense)             (None, 2)                 10        \n",
            "                                                                 \n",
            "=================================================================\n",
            "Total params: 5,706\n",
            "Trainable params: 5,706\n",
            "Non-trainable params: 0\n",
            "_________________________________________________________________\n"
          ]
        }
      ],
      "source": [
        "model.build((None, img_height, img_width, 3))\n",
        "model.summary()"
      ]
    },
    {
      "cell_type": "markdown",
      "metadata": {
        "id": "NiYHcbvaL9H-"
      },
      "source": [
        "### Train the model"
      ]
    },
    {
      "cell_type": "code",
      "execution_count": null,
      "metadata": {
        "id": "-5P_ku1yN-mt",
        "outputId": "2ffc2ebb-a6cc-43a3-8cf3-44ddb97ab978"
      },
      "outputs": [
        {
          "data": {
            "text/plain": [
              "13"
            ]
          },
          "execution_count": 121,
          "metadata": {},
          "output_type": "execute_result"
        }
      ],
      "source": [
        "len(train_ds)"
      ]
    },
    {
      "cell_type": "code",
      "execution_count": 17,
      "metadata": {
        "colab": {
          "base_uri": "https://localhost:8080/",
          "height": 634,
          "referenced_widgets": [
            "51c0706172aa414982d6ee7c703f8a6b",
            "37285d294d0541449a73ea05cc3272c5",
            "6d967226e71f45b0927677c1370f056c",
            "056eec990ade4ba88b3d884d1d2b8bee",
            "ced950b58f1841a5ba8763229a35ac00",
            "700854075eb64fb9a2b8b1e2837045a8",
            "35974a248bf74420841376329f273bee",
            "6d91e3946fab4065b574b0d732473533",
            "49dedaf571104213bf1e6e2b3017cc23",
            "13fc9a63642c46ff88582e87f3d4fee9",
            "114f362e970640519985169c1899a87a",
            "df31ed3edb8143799a36cc0b42e13c65",
            "0e2731c4de32404fafc6f1cad8e7214b",
            "131f371de10d4421a033eee3db9be4af",
            "523e7c4246194f06b621c344f1ad68fd",
            "04bee2cc9e5e4e4287c95909daa4d073",
            "4e3bb78528514ddea62942d934f6a67f",
            "c0938fe5283e49d1a71a5ead9fdab672",
            "9dce2040ccb044269efceb689cac8448",
            "7055dc56781145fb8534a150001112c2",
            "ea668ac953014fc094e442bb38acbcbc",
            "82a688c945d8454685a652b33b6ad3ea"
          ]
        },
        "execution": {
          "iopub.execute_input": "2022-12-14T02:27:25.030778Z",
          "iopub.status.busy": "2022-12-14T02:27:25.030357Z",
          "iopub.status.idle": "2022-12-14T02:27:43.581605Z",
          "shell.execute_reply": "2022-12-14T02:27:43.580814Z"
        },
        "id": "5fWToCqYMErH",
        "outputId": "0dfb33d4-3422-41db-9929-d2711197972c"
      },
      "outputs": [
        {
          "name": "stdout",
          "output_type": "stream",
          "text": [
            "Data loaded: (2616, 32772)\n"
          ]
        },
        {
          "data": {
            "application/vnd.jupyter.widget-view+json": {
              "model_id": "51c0706172aa414982d6ee7c703f8a6b",
              "version_major": 2,
              "version_minor": 0
            },
            "text/plain": [
              "  0%|          | 0/2616 [00:00<?, ?it/s]"
            ]
          },
          "metadata": {},
          "output_type": "display_data"
        },
        {
          "name": "stderr",
          "output_type": "stream",
          "text": [
            "<ipython-input-6-f685ef3745b4>:9: UserWarning: Warning: converting a masked element to nan.\n",
            "  threshold = math.sqrt(np.ma.array(intensity, mask=mask).mean())\n"
          ]
        },
        {
          "name": "stdout",
          "output_type": "stream",
          "text": [
            "Data loaded: (516, 32772)\n"
          ]
        },
        {
          "data": {
            "application/vnd.jupyter.widget-view+json": {
              "model_id": "df31ed3edb8143799a36cc0b42e13c65",
              "version_major": 2,
              "version_minor": 0
            },
            "text/plain": [
              "  0%|          | 0/516 [00:00<?, ?it/s]"
            ]
          },
          "metadata": {},
          "output_type": "display_data"
        },
        {
          "name": "stderr",
          "output_type": "stream",
          "text": [
            "<ipython-input-6-f685ef3745b4>:9: UserWarning: Warning: converting a masked element to nan.\n",
            "  threshold = math.sqrt(np.ma.array(intensity, mask=mask).mean())\n",
            "<ipython-input-8-9eba57ecd468>:58: VisibleDeprecationWarning: Creating an ndarray from ragged nested sequences (which is a list-or-tuple of lists-or-tuples-or ndarrays with different lengths or shapes) is deprecated. If you meant to do this, you must specify 'dtype=object' when creating the ndarray.\n",
            "  return np.array(batch_frames), np.array(batch_labels)\n"
          ]
        },
        {
          "ename": "ValueError",
          "evalue": "ignored",
          "output_type": "error",
          "traceback": [
            "\u001b[0;31m---------------------------------------------------------------------------\u001b[0m",
            "\u001b[0;31mValueError\u001b[0m                                Traceback (most recent call last)",
            "\u001b[0;32m<ipython-input-17-00364a3d753f>\u001b[0m in \u001b[0;36m<cell line: 4>\u001b[0;34m()\u001b[0m\n\u001b[1;32m      2\u001b[0m \u001b[0;34m\u001b[0m\u001b[0m\n\u001b[1;32m      3\u001b[0m \u001b[0mdataset\u001b[0m\u001b[0;34m.\u001b[0m\u001b[0mset_mode\u001b[0m\u001b[0;34m(\u001b[0m\u001b[0;34m'train'\u001b[0m\u001b[0;34m)\u001b[0m\u001b[0;34m\u001b[0m\u001b[0;34m\u001b[0m\u001b[0m\n\u001b[0;32m----> 4\u001b[0;31m history = model.fit(\n\u001b[0m\u001b[1;32m      5\u001b[0m   \u001b[0mdataset\u001b[0m\u001b[0;34m,\u001b[0m\u001b[0;34m\u001b[0m\u001b[0;34m\u001b[0m\u001b[0m\n\u001b[1;32m      6\u001b[0m   \u001b[0mepochs\u001b[0m\u001b[0;34m=\u001b[0m\u001b[0mepochs\u001b[0m\u001b[0;34m\u001b[0m\u001b[0;34m\u001b[0m\u001b[0m\n",
            "\u001b[0;32m/usr/local/lib/python3.10/dist-packages/keras/utils/traceback_utils.py\u001b[0m in \u001b[0;36merror_handler\u001b[0;34m(*args, **kwargs)\u001b[0m\n\u001b[1;32m     68\u001b[0m             \u001b[0;31m# To get the full stack trace, call:\u001b[0m\u001b[0;34m\u001b[0m\u001b[0;34m\u001b[0m\u001b[0m\n\u001b[1;32m     69\u001b[0m             \u001b[0;31m# `tf.debugging.disable_traceback_filtering()`\u001b[0m\u001b[0;34m\u001b[0m\u001b[0;34m\u001b[0m\u001b[0m\n\u001b[0;32m---> 70\u001b[0;31m             \u001b[0;32mraise\u001b[0m \u001b[0me\u001b[0m\u001b[0;34m.\u001b[0m\u001b[0mwith_traceback\u001b[0m\u001b[0;34m(\u001b[0m\u001b[0mfiltered_tb\u001b[0m\u001b[0;34m)\u001b[0m \u001b[0;32mfrom\u001b[0m \u001b[0;32mNone\u001b[0m\u001b[0;34m\u001b[0m\u001b[0;34m\u001b[0m\u001b[0m\n\u001b[0m\u001b[1;32m     71\u001b[0m         \u001b[0;32mfinally\u001b[0m\u001b[0;34m:\u001b[0m\u001b[0;34m\u001b[0m\u001b[0;34m\u001b[0m\u001b[0m\n\u001b[1;32m     72\u001b[0m             \u001b[0;32mdel\u001b[0m \u001b[0mfiltered_tb\u001b[0m\u001b[0;34m\u001b[0m\u001b[0;34m\u001b[0m\u001b[0m\n",
            "\u001b[0;32m/usr/local/lib/python3.10/dist-packages/tensorflow/python/framework/constant_op.py\u001b[0m in \u001b[0;36mconvert_to_eager_tensor\u001b[0;34m(value, ctx, dtype)\u001b[0m\n\u001b[1;32m    101\u001b[0m       \u001b[0mdtype\u001b[0m \u001b[0;34m=\u001b[0m \u001b[0mdtypes\u001b[0m\u001b[0;34m.\u001b[0m\u001b[0mas_dtype\u001b[0m\u001b[0;34m(\u001b[0m\u001b[0mdtype\u001b[0m\u001b[0;34m)\u001b[0m\u001b[0;34m.\u001b[0m\u001b[0mas_datatype_enum\u001b[0m\u001b[0;34m\u001b[0m\u001b[0;34m\u001b[0m\u001b[0m\n\u001b[1;32m    102\u001b[0m   \u001b[0mctx\u001b[0m\u001b[0;34m.\u001b[0m\u001b[0mensure_initialized\u001b[0m\u001b[0;34m(\u001b[0m\u001b[0;34m)\u001b[0m\u001b[0;34m\u001b[0m\u001b[0;34m\u001b[0m\u001b[0m\n\u001b[0;32m--> 103\u001b[0;31m   \u001b[0;32mreturn\u001b[0m \u001b[0mops\u001b[0m\u001b[0;34m.\u001b[0m\u001b[0mEagerTensor\u001b[0m\u001b[0;34m(\u001b[0m\u001b[0mvalue\u001b[0m\u001b[0;34m,\u001b[0m \u001b[0mctx\u001b[0m\u001b[0;34m.\u001b[0m\u001b[0mdevice_name\u001b[0m\u001b[0;34m,\u001b[0m \u001b[0mdtype\u001b[0m\u001b[0;34m)\u001b[0m\u001b[0;34m\u001b[0m\u001b[0;34m\u001b[0m\u001b[0m\n\u001b[0m\u001b[1;32m    104\u001b[0m \u001b[0;34m\u001b[0m\u001b[0m\n\u001b[1;32m    105\u001b[0m \u001b[0;34m\u001b[0m\u001b[0m\n",
            "\u001b[0;31mValueError\u001b[0m: Failed to convert a NumPy array to a Tensor (Unsupported object type numpy.ndarray)."
          ]
        }
      ],
      "source": [
        "epochs=4\n",
        "\n",
        "dataset.set_mode('train')\n",
        "history = model.fit(\n",
        "  dataset,\n",
        "  epochs=epochs\n",
        ")"
      ]
    },
    {
      "cell_type": "markdown",
      "metadata": {
        "id": "SyFKdQpXMJT4"
      },
      "source": [
        "## Visualize training results"
      ]
    },
    {
      "cell_type": "markdown",
      "metadata": {
        "id": "dFvOvmAmMK9w"
      },
      "source": [
        "Create plots of the loss and accuracy on the training and validation sets:"
      ]
    },
    {
      "cell_type": "code",
      "execution_count": null,
      "metadata": {
        "execution": {
          "iopub.execute_input": "2022-12-14T02:27:43.585799Z",
          "iopub.status.busy": "2022-12-14T02:27:43.585070Z",
          "iopub.status.idle": "2022-12-14T02:27:43.987910Z",
          "shell.execute_reply": "2022-12-14T02:27:43.987181Z"
        },
        "id": "jWnopEChMMCn",
        "outputId": "39c8c00d-6b26-42e7-9156-1df62712a055"
      },
      "outputs": [
        {
          "data": {
            "image/png": "[encoded data removed]",
            "text/plain": [
              "<Figure size 800x800 with 2 Axes>"
            ]
          },
          "metadata": {},
          "output_type": "display_data"
        }
      ],
      "source": [
        "acc = history.history['accuracy']\n",
        "val_acc = history.history['val_accuracy']\n",
        "\n",
        "loss = history.history['loss']\n",
        "val_loss = history.history['val_loss']\n",
        "\n",
        "epochs_range = range(epochs)\n",
        "\n",
        "plt.figure(figsize=(8, 8))\n",
        "plt.subplot(1, 2, 1)\n",
        "plt.plot(epochs_range, acc, label='Training Accuracy')\n",
        "plt.plot(epochs_range, val_acc, label='Validation Accuracy')\n",
        "plt.legend(loc='lower right')\n",
        "plt.title('Training and Validation Accuracy')\n",
        "\n",
        "plt.subplot(1, 2, 2)\n",
        "plt.plot(epochs_range, loss, label='Training Loss')\n",
        "plt.plot(epochs_range, val_loss, label='Validation Loss')\n",
        "plt.legend(loc='upper right')\n",
        "plt.title('Training and Validation Loss')\n",
        "plt.show()"
      ]
    },
    {
      "cell_type": "markdown",
      "metadata": {
        "id": "hO_jT7HwMrEn"
      },
      "source": [
        "The plots show that training accuracy and validation accuracy are off by large margins, and the model has achieved only around 60% accuracy on the validation set.\n",
        "\n",
        "The following tutorial sections show how to inspect what went wrong and try to increase the overall performance of the model."
      ]
    },
    {
      "cell_type": "markdown",
      "metadata": {
        "id": "hqtyGodAMvNV"
      },
      "source": [
        "## Overfitting"
      ]
    },
    {
      "cell_type": "markdown",
      "metadata": {
        "id": "ixsz9XFfMxcu"
      },
      "source": [
        "In the plots above, the training accuracy is increasing linearly over time, whereas validation accuracy stalls around 60% in the training process. Also, the difference in accuracy between training and validation accuracy is noticeable—a sign of [overfitting](https://www.tensorflow.org/tutorials/keras/overfit_and_underfit).\n",
        "\n",
        "When there are a small number of training examples, the model sometimes learns from noises or unwanted details from training examples—to an extent that it negatively impacts the performance of the model on new examples. This phenomenon is known as overfitting. It means that the model will have a difficult time generalizing on a new dataset.\n",
        "\n",
        "There are multiple ways to fight overfitting in the training process. In this tutorial, you'll use *data augmentation* and add *dropout* to your model."
      ]
    },
    {
      "cell_type": "markdown",
      "metadata": {
        "id": "BDMfYqwmM1C-"
      },
      "source": [
        "## Data augmentation"
      ]
    },
    {
      "cell_type": "markdown",
      "metadata": {
        "id": "GxYwix81M2YO"
      },
      "source": [
        "Overfitting generally occurs when there are a small number of training examples. [Data augmentation](./data_augmentation.ipynb) takes the approach of generating additional training data from your existing examples by augmenting them using random transformations that yield believable-looking images. This helps expose the model to more aspects of the data and generalize better.\n",
        "\n",
        "You will implement data augmentation using the following Keras preprocessing layers: `tf.keras.layers.RandomFlip`, `tf.keras.layers.RandomRotation`, and `tf.keras.layers.RandomZoom`. These can be included inside your model like other layers, and run on the GPU."
      ]
    },
    {
      "cell_type": "code",
      "execution_count": null,
      "metadata": {
        "execution": {
          "iopub.execute_input": "2022-12-14T02:27:43.992445Z",
          "iopub.status.busy": "2022-12-14T02:27:43.991932Z",
          "iopub.status.idle": "2022-12-14T02:27:44.819836Z",
          "shell.execute_reply": "2022-12-14T02:27:44.819158Z"
        },
        "id": "9J80BAbIMs21"
      },
      "outputs": [],
      "source": [
        "data_augmentation = keras.Sequential(\n",
        "  [\n",
        "    layers.RandomFlip(\"horizontal\",\n",
        "                      input_shape=(img_height,\n",
        "                                  img_width,\n",
        "                                  3)),\n",
        "    layers.RandomRotation(0.1),\n",
        "    layers.RandomZoom(0.1),\n",
        "  ]\n",
        ")"
      ]
    },
    {
      "cell_type": "markdown",
      "metadata": {
        "id": "PN4k1dK3S6eV"
      },
      "source": [
        "Visualize a few augmented examples by applying data augmentation to the same image several times:"
      ]
    },
    {
      "cell_type": "code",
      "execution_count": null,
      "metadata": {
        "execution": {
          "iopub.execute_input": "2022-12-14T02:27:44.823628Z",
          "iopub.status.busy": "2022-12-14T02:27:44.823161Z",
          "iopub.status.idle": "2022-12-14T02:27:57.134214Z",
          "shell.execute_reply": "2022-12-14T02:27:57.133508Z"
        },
        "id": "7Z90k539S838",
        "outputId": "7744b3bf-af31-4cdc-eca2-eadceca4f588"
      },
      "outputs": [
        {
          "data": {
            "image/png": "[encoded data removed]",
            "text/plain": [
              "<Figure size 1000x1000 with 9 Axes>"
            ]
          },
          "metadata": {},
          "output_type": "display_data"
        }
      ],
      "source": [
        "plt.figure(figsize=(10, 10))\n",
        "for images, _ in train_ds.take(1):\n",
        "  for i in range(9):\n",
        "    augmented_images = data_augmentation(images)\n",
        "    ax = plt.subplot(3, 3, i + 1)\n",
        "    plt.imshow(augmented_images[0].numpy().astype(\"uint8\"))\n",
        "    plt.axis(\"off\")"
      ]
    },
    {
      "cell_type": "markdown",
      "metadata": {
        "id": "tsjXCBLYYNs5"
      },
      "source": [
        "You will add data augmentation to your model before training in the next step."
      ]
    },
    {
      "cell_type": "markdown",
      "metadata": {
        "id": "ZeD3bXepYKXs"
      },
      "source": [
        "## Dropout\n",
        "\n",
        "Another technique to reduce overfitting is to introduce [dropout](https://developers.google.com/machine-learning/glossary#dropout_regularization){:.external} regularization to the network.\n",
        "\n",
        "When you apply dropout to a layer, it randomly drops out (by setting the activation to zero) a number of output units from the layer during the training process. Dropout takes a fractional number as its input value, in the form such as 0.1, 0.2, 0.4, etc. This means dropping out 10%, 20% or 40% of the output units randomly from the applied layer.\n",
        "\n",
        "Create a new neural network with `tf.keras.layers.Dropout` before training it using the augmented images:"
      ]
    },
    {
      "cell_type": "code",
      "execution_count": null,
      "metadata": {
        "execution": {
          "iopub.execute_input": "2022-12-14T02:27:57.144938Z",
          "iopub.status.busy": "2022-12-14T02:27:57.144361Z",
          "iopub.status.idle": "2022-12-14T02:27:58.000332Z",
          "shell.execute_reply": "2022-12-14T02:27:57.999658Z"
        },
        "id": "2Zeg8zsqXCsm"
      },
      "outputs": [],
      "source": [
        "model = Sequential([\n",
        "  data_augmentation,\n",
        "  layers.Rescaling(1./255),\n",
        "  layers.Conv2D(16, 3, padding='same', activation='relu'),\n",
        "  layers.MaxPooling2D(),\n",
        "  layers.Conv2D(32, 3, padding='same', activation='relu'),\n",
        "  layers.MaxPooling2D(),\n",
        "  layers.Conv2D(64, 3, padding='same', activation='relu'),\n",
        "  layers.MaxPooling2D(),\n",
        "  layers.Dropout(0.2),\n",
        "  layers.Flatten(),\n",
        "  layers.Dense(128, activation='relu'),\n",
        "  layers.Dense(num_classes, name=\"outputs\")\n",
        "])"
      ]
    },
    {
      "cell_type": "markdown",
      "metadata": {
        "id": "L4nEcuqgZLbi"
      },
      "source": [
        "## Compile and train the model"
      ]
    },
    {
      "cell_type": "code",
      "execution_count": null,
      "metadata": {
        "execution": {
          "iopub.execute_input": "2022-12-14T02:27:58.004431Z",
          "iopub.status.busy": "2022-12-14T02:27:58.003875Z",
          "iopub.status.idle": "2022-12-14T02:27:58.012323Z",
          "shell.execute_reply": "2022-12-14T02:27:58.011747Z"
        },
        "id": "EvyAINs9ZOmJ"
      },
      "outputs": [],
      "source": [
        "model.compile(optimizer='adam',\n",
        "              loss=tf.keras.losses.SparseCategoricalCrossentropy(from_logits=True),\n",
        "              metrics=['accuracy'])"
      ]
    },
    {
      "cell_type": "code",
      "execution_count": null,
      "metadata": {
        "execution": {
          "iopub.execute_input": "2022-12-14T02:27:58.015504Z",
          "iopub.status.busy": "2022-12-14T02:27:58.015053Z",
          "iopub.status.idle": "2022-12-14T02:27:58.035841Z",
          "shell.execute_reply": "2022-12-14T02:27:58.035304Z"
        },
        "id": "wWLkKoKjZSoC",
        "outputId": "22c719e4-ddbf-42b3-fe9c-5d9090b47110"
      },
      "outputs": [
        {
          "name": "stdout",
          "output_type": "stream",
          "text": [
            "Model: \"sequential_3\"\n",
            "_________________________________________________________________\n",
            " Layer (type)                Output Shape              Param #   \n",
            "=================================================================\n",
            " sequential_2 (Sequential)   (None, 128, 128, 3)       0         \n",
            "                                                                 \n",
            " rescaling_1 (Rescaling)     (None, 128, 128, 3)       0         \n",
            "                                                                 \n",
            " conv2d_4 (Conv2D)           (None, 128, 128, 16)      448       \n",
            "                                                                 \n",
            " max_pooling2d_4 (MaxPooling  (None, 64, 64, 16)       0         \n",
            " 2D)                                                             \n",
            "                                                                 \n",
            " conv2d_5 (Conv2D)           (None, 64, 64, 32)        4640      \n",
            "                                                                 \n",
            " max_pooling2d_5 (MaxPooling  (None, 32, 32, 32)       0         \n",
            " 2D)                                                             \n",
            "                                                                 \n",
            " conv2d_6 (Conv2D)           (None, 32, 32, 64)        18496     \n",
            "                                                                 \n",
            " max_pooling2d_6 (MaxPooling  (None, 16, 16, 64)       0         \n",
            " 2D)                                                             \n",
            "                                                                 \n",
            " dropout (Dropout)           (None, 16, 16, 64)        0         \n",
            "                                                                 \n",
            " flatten_2 (Flatten)         (None, 16384)             0         \n",
            "                                                                 \n",
            " dense_6 (Dense)             (None, 128)               2097280   \n",
            "                                                                 \n",
            " outputs (Dense)             (None, 2)                 258       \n",
            "                                                                 \n",
            "=================================================================\n",
            "Total params: 2,121,122\n",
            "Trainable params: 2,121,122\n",
            "Non-trainable params: 0\n",
            "_________________________________________________________________\n"
          ]
        }
      ],
      "source": [
        "model.summary()"
      ]
    },
    {
      "cell_type": "code",
      "execution_count": null,
      "metadata": {
        "execution": {
          "iopub.execute_input": "2022-12-14T02:27:58.048100Z",
          "iopub.status.busy": "2022-12-14T02:27:58.047473Z",
          "iopub.status.idle": "2022-12-14T02:30:03.122576Z",
          "shell.execute_reply": "2022-12-14T02:30:03.121754Z"
        },
        "id": "LWS-vvNaZDag",
        "outputId": "5b7e9ad5-69ba-4372-f33a-e8a654fa4a8f"
      },
      "outputs": [
        {
          "name": "stdout",
          "output_type": "stream",
          "text": [
            "Epoch 1/3\n",
            "155/155 [==============================] - 14s 92ms/step - loss: nan - accuracy: 0.4230 - val_loss: nan - val_accuracy: 0.4819\n",
            "Epoch 2/3\n",
            "155/155 [==============================] - 13s 84ms/step - loss: nan - accuracy: 0.4230 - val_loss: nan - val_accuracy: 0.4819\n",
            "Epoch 3/3\n",
            "155/155 [==============================] - 13s 85ms/step - loss: nan - accuracy: 0.4230 - val_loss: nan - val_accuracy: 0.4819\n"
          ]
        }
      ],
      "source": [
        "epochs = 3\n",
        "history = model.fit(\n",
        "  train_ds,\n",
        "  validation_data=val_ds,\n",
        "  epochs=epochs\n",
        ")"
      ]
    },
    {
      "cell_type": "markdown",
      "metadata": {
        "id": "Lkdl8VsBbZOu"
      },
      "source": [
        "## Visualize training results\n",
        "\n",
        "After applying data augmentation and `tf.keras.layers.Dropout`, there is less overfitting than before, and training and validation accuracy are closer aligned:"
      ]
    },
    {
      "cell_type": "code",
      "execution_count": null,
      "metadata": {
        "execution": {
          "iopub.execute_input": "2022-12-14T02:30:03.126342Z",
          "iopub.status.busy": "2022-12-14T02:30:03.126059Z",
          "iopub.status.idle": "2022-12-14T02:30:03.445383Z",
          "shell.execute_reply": "2022-12-14T02:30:03.444688Z"
        },
        "id": "dduoLfKsZVIA",
        "outputId": "a9aa58d8-e3ad-4208-af4c-40460b38856e"
      },
      "outputs": [
        {
          "data": {
            "image/png": "[encoded data removed]",
            "text/plain": [
              "<Figure size 800x800 with 2 Axes>"
            ]
          },
          "metadata": {},
          "output_type": "display_data"
        }
      ],
      "source": [
        "acc = history.history['accuracy']\n",
        "val_acc = history.history['val_accuracy']\n",
        "\n",
        "loss = history.history['loss']\n",
        "val_loss = history.history['val_loss']\n",
        "\n",
        "epochs_range = range(epochs)\n",
        "\n",
        "plt.figure(figsize=(8, 8))\n",
        "plt.subplot(1, 2, 1)\n",
        "plt.plot(epochs_range, acc, label='Training Accuracy')\n",
        "plt.plot(epochs_range, val_acc, label='Validation Accuracy')\n",
        "plt.legend(loc='lower right')\n",
        "plt.title('Training and Validation Accuracy')\n",
        "\n",
        "plt.subplot(1, 2, 2)\n",
        "plt.plot(epochs_range, loss, label='Training Loss')\n",
        "plt.plot(epochs_range, val_loss, label='Validation Loss')\n",
        "plt.legend(loc='upper right')\n",
        "plt.title('Training and Validation Loss')\n",
        "plt.show()"
      ]
    },
    {
      "cell_type": "markdown",
      "metadata": {
        "id": "dtv5VbaVb-3W"
      },
      "source": [
        "## Predict on new data"
      ]
    },
    {
      "cell_type": "markdown",
      "metadata": {
        "id": "10buWpJbcCQz"
      },
      "source": [
        "Use your model to classify an image that wasn't included in the training or validation sets."
      ]
    },
    {
      "cell_type": "markdown",
      "metadata": {
        "id": "NKgMZ4bDcHf7"
      },
      "source": [
        "Note: Data augmentation and dropout layers are inactive at inference time."
      ]
    },
    {
      "cell_type": "code",
      "execution_count": null,
      "metadata": {
        "execution": {
          "iopub.execute_input": "2022-12-14T02:30:03.449539Z",
          "iopub.status.busy": "2022-12-14T02:30:03.449245Z",
          "iopub.status.idle": "2022-12-14T02:30:03.691777Z",
          "shell.execute_reply": "2022-12-14T02:30:03.691088Z"
        },
        "id": "dC40sRITBSsQ",
        "outputId": "6962ad39-ba45-4465-b404-6a3fa199a690"
      },
      "outputs": [
        {
          "name": "stdout",
          "output_type": "stream",
          "text": [
            "Downloading data from https://storage.googleapis.com/download.tensorflow.org/example_images/592px-Red_sunflower.jpg\n"
          ]
        },
        {
          "name": "stdout",
          "output_type": "stream",
          "text": [
            "\r\n",
            "  8192/117948 [=>............................] - ETA: 0s"
          ]
        },
        {
          "name": "stdout",
          "output_type": "stream",
          "text": [
            "\b\b\b\b\b\b\b\b\b\b\b\b\b\b\b\b\b\b\b\b\b\b\b\b\b\b\b\b\b\b\b\b\b\b\b\b\b\b\b\b\b\b\b\b\b\b\b\b\b\b\b\b\b\b\b\b\r\n",
            "117948/117948 [==============================] - 0s 0us/step\n"
          ]
        },
        {
          "name": "stdout",
          "output_type": "stream",
          "text": [
            "\r\n",
            "1/1 [==============================] - ETA: 0s"
          ]
        },
        {
          "name": "stdout",
          "output_type": "stream",
          "text": [
            "\b\b\b\b\b\b\b\b\b\b\b\b\b\b\b\b\b\b\b\b\b\b\b\b\b\b\b\b\b\b\b\b\b\b\b\b\b\b\b\b\b\b\b\b\b\b\r\n",
            "1/1 [==============================] - 0s 125ms/step\n"
          ]
        },
        {
          "name": "stdout",
          "output_type": "stream",
          "text": [
            "This image most likely belongs to sunflowers with a 97.33 percent confidence.\n"
          ]
        }
      ],
      "source": [
        "sunflower_url = \"https://storage.googleapis.com/download.tensorflow.org/example_images/592px-Red_sunflower.jpg\"\n",
        "sunflower_path = tf.keras.utils.get_file('Red_sunflower', origin=sunflower_url)\n",
        "\n",
        "img = tf.keras.utils.load_img(\n",
        "    sunflower_path, target_size=(img_height, img_width)\n",
        ")\n",
        "img_array = tf.keras.utils.img_to_array(img)\n",
        "img_array = tf.expand_dims(img_array, 0) # Create a batch\n",
        "\n",
        "predictions = model.predict(img_array)\n",
        "score = tf.nn.softmax(predictions[0])\n",
        "\n",
        "print(\n",
        "    \"This image most likely belongs to {} with a {:.2f} percent confidence.\"\n",
        "    .format(class_names[np.argmax(score)], 100 * np.max(score))\n",
        ")"
      ]
    },
    {
      "cell_type": "markdown",
      "metadata": {
        "id": "aOc3PZ2N2r18"
      },
      "source": [
        "## Use TensorFlow Lite\n",
        "\n",
        "TensorFlow Lite is a set of tools that enables on-device machine learning by helping developers run their models on mobile, embedded, and edge devices."
      ]
    },
    {
      "cell_type": "markdown",
      "metadata": {
        "id": "cThu25rh4LPP"
      },
      "source": [
        "### Convert the Keras Sequential model to a TensorFlow Lite model\n",
        "\n",
        "To use the trained model with on-device applications, first [convert it](https://www.tensorflow.org/lite/models/convert) to a smaller and more efficient model format called a [TensorFlow Lite](https://www.tensorflow.org/lite/) model.\n",
        "\n",
        "In this example, take the trained Keras Sequential model and use `tf.lite.TFLiteConverter.from_keras_model` to generate a [TensorFlow Lite](https://www.tensorflow.org/lite/) model:"
      ]
    },
    {
      "cell_type": "code",
      "execution_count": null,
      "metadata": {
        "execution": {
          "iopub.execute_input": "2022-12-14T02:30:03.695360Z",
          "iopub.status.busy": "2022-12-14T02:30:03.695082Z",
          "iopub.status.idle": "2022-12-14T02:30:15.912363Z",
          "shell.execute_reply": "2022-12-14T02:30:15.911671Z"
        },
        "id": "mXo6ftuL2ufx",
        "outputId": "83d6c8fe-3f3f-4e36-eb36-ea8ee046146c"
      },
      "outputs": [
        {
          "name": "stdout",
          "output_type": "stream",
          "text": [
            "WARNING:tensorflow:Using a while_loop for converting RngReadAndSkip cause there is no registered converter for this op.\n"
          ]
        },
        {
          "name": "stdout",
          "output_type": "stream",
          "text": [
            "WARNING:tensorflow:Using a while_loop for converting Bitcast cause there is no registered converter for this op.\n"
          ]
        },
        {
          "name": "stdout",
          "output_type": "stream",
          "text": [
            "WARNING:tensorflow:Using a while_loop for converting Bitcast cause there is no registered converter for this op.\n"
          ]
        },
        {
          "name": "stdout",
          "output_type": "stream",
          "text": [
            "WARNING:tensorflow:Using a while_loop for converting StatelessRandomUniformV2 cause there is no registered converter for this op.\n"
          ]
        },
        {
          "name": "stdout",
          "output_type": "stream",
          "text": [
            "WARNING:tensorflow:Using a while_loop for converting ImageProjectiveTransformV3 cause there is no registered converter for this op.\n"
          ]
        },
        {
          "name": "stdout",
          "output_type": "stream",
          "text": [
            "WARNING:tensorflow:Using a while_loop for converting RngReadAndSkip cause there is no registered converter for this op.\n"
          ]
        },
        {
          "name": "stdout",
          "output_type": "stream",
          "text": [
            "WARNING:tensorflow:Using a while_loop for converting Bitcast cause there is no registered converter for this op.\n"
          ]
        },
        {
          "name": "stdout",
          "output_type": "stream",
          "text": [
            "WARNING:tensorflow:Using a while_loop for converting Bitcast cause there is no registered converter for this op.\n"
          ]
        },
        {
          "name": "stdout",
          "output_type": "stream",
          "text": [
            "WARNING:tensorflow:Using a while_loop for converting StatelessRandomUniformV2 cause there is no registered converter for this op.\n"
          ]
        },
        {
          "name": "stdout",
          "output_type": "stream",
          "text": [
            "WARNING:tensorflow:Using a while_loop for converting ImageProjectiveTransformV3 cause there is no registered converter for this op.\n"
          ]
        },
        {
          "name": "stdout",
          "output_type": "stream",
          "text": [
            "WARNING:tensorflow:Using a while_loop for converting RngReadAndSkip cause there is no registered converter for this op.\n"
          ]
        },
        {
          "name": "stdout",
          "output_type": "stream",
          "text": [
            "WARNING:tensorflow:Using a while_loop for converting Bitcast cause there is no registered converter for this op.\n"
          ]
        },
        {
          "name": "stdout",
          "output_type": "stream",
          "text": [
            "WARNING:tensorflow:Using a while_loop for converting Bitcast cause there is no registered converter for this op.\n"
          ]
        },
        {
          "name": "stdout",
          "output_type": "stream",
          "text": [
            "WARNING:tensorflow:Using a while_loop for converting StatelessRandomUniformV2 cause there is no registered converter for this op.\n"
          ]
        },
        {
          "name": "stdout",
          "output_type": "stream",
          "text": [
            "WARNING:tensorflow:Using a while_loop for converting ImageProjectiveTransformV3 cause there is no registered converter for this op.\n"
          ]
        },
        {
          "name": "stdout",
          "output_type": "stream",
          "text": [
            "WARNING:tensorflow:Using a while_loop for converting RngReadAndSkip cause there is no registered converter for this op.\n"
          ]
        },
        {
          "name": "stdout",
          "output_type": "stream",
          "text": [
            "WARNING:tensorflow:Using a while_loop for converting Bitcast cause there is no registered converter for this op.\n"
          ]
        },
        {
          "name": "stdout",
          "output_type": "stream",
          "text": [
            "WARNING:tensorflow:Using a while_loop for converting Bitcast cause there is no registered converter for this op.\n"
          ]
        },
        {
          "name": "stdout",
          "output_type": "stream",
          "text": [
            "WARNING:tensorflow:Using a while_loop for converting StatelessRandomUniformV2 cause there is no registered converter for this op.\n"
          ]
        },
        {
          "name": "stdout",
          "output_type": "stream",
          "text": [
            "WARNING:tensorflow:Using a while_loop for converting ImageProjectiveTransformV3 cause there is no registered converter for this op.\n"
          ]
        },
        {
          "name": "stdout",
          "output_type": "stream",
          "text": [
            "WARNING:tensorflow:Using a while_loop for converting RngReadAndSkip cause there is no registered converter for this op.\n"
          ]
        },
        {
          "name": "stdout",
          "output_type": "stream",
          "text": [
            "WARNING:tensorflow:Using a while_loop for converting Bitcast cause there is no registered converter for this op.\n"
          ]
        },
        {
          "name": "stdout",
          "output_type": "stream",
          "text": [
            "WARNING:tensorflow:Using a while_loop for converting Bitcast cause there is no registered converter for this op.\n"
          ]
        },
        {
          "name": "stdout",
          "output_type": "stream",
          "text": [
            "WARNING:tensorflow:Using a while_loop for converting StatelessRandomUniformV2 cause there is no registered converter for this op.\n"
          ]
        },
        {
          "name": "stdout",
          "output_type": "stream",
          "text": [
            "WARNING:tensorflow:Using a while_loop for converting ImageProjectiveTransformV3 cause there is no registered converter for this op.\n"
          ]
        },
        {
          "name": "stdout",
          "output_type": "stream",
          "text": [
            "WARNING:tensorflow:Using a while_loop for converting RngReadAndSkip cause there is no registered converter for this op.\n"
          ]
        },
        {
          "name": "stdout",
          "output_type": "stream",
          "text": [
            "WARNING:tensorflow:Using a while_loop for converting Bitcast cause there is no registered converter for this op.\n"
          ]
        },
        {
          "name": "stdout",
          "output_type": "stream",
          "text": [
            "WARNING:tensorflow:Using a while_loop for converting Bitcast cause there is no registered converter for this op.\n"
          ]
        },
        {
          "name": "stdout",
          "output_type": "stream",
          "text": [
            "WARNING:tensorflow:Using a while_loop for converting StatelessRandomUniformV2 cause there is no registered converter for this op.\n"
          ]
        },
        {
          "name": "stdout",
          "output_type": "stream",
          "text": [
            "WARNING:tensorflow:Using a while_loop for converting ImageProjectiveTransformV3 cause there is no registered converter for this op.\n"
          ]
        },
        {
          "name": "stdout",
          "output_type": "stream",
          "text": [
            "WARNING:tensorflow:Using a while_loop for converting RngReadAndSkip cause there is no registered converter for this op.\n"
          ]
        },
        {
          "name": "stdout",
          "output_type": "stream",
          "text": [
            "WARNING:tensorflow:Using a while_loop for converting Bitcast cause there is no registered converter for this op.\n"
          ]
        },
        {
          "name": "stdout",
          "output_type": "stream",
          "text": [
            "WARNING:tensorflow:Using a while_loop for converting Bitcast cause there is no registered converter for this op.\n"
          ]
        },
        {
          "name": "stdout",
          "output_type": "stream",
          "text": [
            "WARNING:tensorflow:Using a while_loop for converting StatelessRandomUniformV2 cause there is no registered converter for this op.\n"
          ]
        },
        {
          "name": "stdout",
          "output_type": "stream",
          "text": [
            "WARNING:tensorflow:Using a while_loop for converting ImageProjectiveTransformV3 cause there is no registered converter for this op.\n"
          ]
        },
        {
          "name": "stdout",
          "output_type": "stream",
          "text": [
            "WARNING:tensorflow:Using a while_loop for converting RngReadAndSkip cause there is no registered converter for this op.\n"
          ]
        },
        {
          "name": "stdout",
          "output_type": "stream",
          "text": [
            "WARNING:tensorflow:Using a while_loop for converting Bitcast cause there is no registered converter for this op.\n"
          ]
        },
        {
          "name": "stdout",
          "output_type": "stream",
          "text": [
            "WARNING:tensorflow:Using a while_loop for converting Bitcast cause there is no registered converter for this op.\n"
          ]
        },
        {
          "name": "stdout",
          "output_type": "stream",
          "text": [
            "WARNING:tensorflow:Using a while_loop for converting StatelessRandomUniformV2 cause there is no registered converter for this op.\n"
          ]
        },
        {
          "name": "stdout",
          "output_type": "stream",
          "text": [
            "WARNING:tensorflow:Using a while_loop for converting ImageProjectiveTransformV3 cause there is no registered converter for this op.\n"
          ]
        },
        {
          "name": "stderr",
          "output_type": "stream",
          "text": [
            "WARNING:absl:Found untraced functions such as _jit_compiled_convolution_op, _jit_compiled_convolution_op, _jit_compiled_convolution_op while saving (showing 3 of 3). These functions will not be directly callable after loading.\n"
          ]
        },
        {
          "name": "stdout",
          "output_type": "stream",
          "text": [
            "INFO:tensorflow:Assets written to: /tmpfs/tmp/tmpr2jwfqh7/assets\n"
          ]
        },
        {
          "name": "stderr",
          "output_type": "stream",
          "text": [
            "INFO:tensorflow:Assets written to: /tmpfs/tmp/tmpr2jwfqh7/assets\n"
          ]
        },
        {
          "name": "stderr",
          "output_type": "stream",
          "text": [
            "2022-12-14 02:30:14.950940: W tensorflow/compiler/mlir/lite/python/tf_tfl_flatbuffer_helpers.cc:362] Ignored output_format.\n",
            "2022-12-14 02:30:14.950996: W tensorflow/compiler/mlir/lite/python/tf_tfl_flatbuffer_helpers.cc:365] Ignored drop_control_dependency.\n"
          ]
        }
      ],
      "source": [
        "# Convert the model.\n",
        "converter = tf.lite.TFLiteConverter.from_keras_model(model)\n",
        "tflite_model = converter.convert()\n",
        "\n",
        "# Save the model.\n",
        "with open('model.tflite', 'wb') as f:\n",
        "  f.write(tflite_model)"
      ]
    },
    {
      "cell_type": "markdown",
      "metadata": {
        "id": "4R26OU4gGKhh"
      },
      "source": [
        "The TensorFlow Lite model you saved in the previous step can contain several function signatures. The Keras model converter API uses the default signature automatically. Learn more about [TensorFlow Lite signatures](https://www.tensorflow.org/lite/guide/signatures)."
      ]
    },
    {
      "cell_type": "markdown",
      "metadata": {
        "id": "7fjQfXaV2l-5"
      },
      "source": [
        "### Run the TensorFlow Lite model\n",
        "\n",
        "You can access the TensorFlow Lite saved model signatures in Python via the `tf.lite.Interpreter` class.\n",
        "\n",
        "Load the model with the `Interpreter`:"
      ]
    },
    {
      "cell_type": "code",
      "execution_count": null,
      "metadata": {
        "execution": {
          "iopub.execute_input": "2022-12-14T02:30:15.916056Z",
          "iopub.status.busy": "2022-12-14T02:30:15.915783Z",
          "iopub.status.idle": "2022-12-14T02:30:15.919626Z",
          "shell.execute_reply": "2022-12-14T02:30:15.919023Z"
        },
        "id": "cHYcip_FOaHq"
      },
      "outputs": [],
      "source": [
        "TF_MODEL_FILE_PATH = 'model.tflite' # The default path to the saved TensorFlow Lite model\n",
        "\n",
        "interpreter = tf.lite.Interpreter(model_path=TF_MODEL_FILE_PATH)"
      ]
    },
    {
      "cell_type": "markdown",
      "metadata": {
        "id": "nPUXY6BdHDHo"
      },
      "source": [
        "Print the signatures from the converted model to obtain the names of the inputs (and outputs):\n"
      ]
    },
    {
      "cell_type": "code",
      "execution_count": null,
      "metadata": {
        "execution": {
          "iopub.execute_input": "2022-12-14T02:30:15.922449Z",
          "iopub.status.busy": "2022-12-14T02:30:15.922224Z",
          "iopub.status.idle": "2022-12-14T02:30:15.926351Z",
          "shell.execute_reply": "2022-12-14T02:30:15.925761Z"
        },
        "id": "ZdDl00E2OaHq",
        "outputId": "f617366c-c86a-4dbe-c041-d31c7ec0ab00"
      },
      "outputs": [
        {
          "data": {
            "text/plain": [
              "{'serving_default': {'inputs': ['sequential_1_input'], 'outputs': ['outputs']}}"
            ]
          },
          "execution_count": 33,
          "metadata": {},
          "output_type": "execute_result"
        }
      ],
      "source": [
        "interpreter.get_signature_list()"
      ]
    },
    {
      "cell_type": "markdown",
      "metadata": {
        "id": "4eVFqT0je3YG"
      },
      "source": [
        "In this example, you have one default signature called `serving_default`. In addition, the name of the `'inputs'` is `'sequential_1_input'`, while the `'outputs'` are called `'outputs'`. You can look up these first and last Keras layer names when running `Model.summary`, as demonstrated earlier in this tutorial.\n",
        "\n",
        "Now you can test the loaded TensorFlow Model by performing inference on a sample image with `tf.lite.Interpreter.get_signature_runner` by passing the signature name as follows:"
      ]
    },
    {
      "cell_type": "code",
      "execution_count": null,
      "metadata": {
        "execution": {
          "iopub.execute_input": "2022-12-14T02:30:15.929681Z",
          "iopub.status.busy": "2022-12-14T02:30:15.929024Z",
          "iopub.status.idle": "2022-12-14T02:30:15.933523Z",
          "shell.execute_reply": "2022-12-14T02:30:15.932923Z"
        },
        "id": "yFoT_7W_OaHq",
        "outputId": "79538f53-dffc-4b20-95bf-50a4ab83411c"
      },
      "outputs": [
        {
          "data": {
            "text/plain": [
              "<tensorflow.lite.python.interpreter.SignatureRunner at 0x7f0364433580>"
            ]
          },
          "execution_count": 34,
          "metadata": {},
          "output_type": "execute_result"
        }
      ],
      "source": [
        "classify_lite = interpreter.get_signature_runner('serving_default')\n",
        "classify_lite"
      ]
    },
    {
      "cell_type": "markdown",
      "metadata": {
        "id": "b1mfRcBOnEx0"
      },
      "source": [
        "Similar to what you did earlier in the tutorial, you can use the TensorFlow Lite model to classify images that weren't included in the training or validation sets.\n",
        "\n",
        "You have already tensorized that image and saved it as `img_array`. Now, pass it to the first argument (the name of the `'inputs'`) of the loaded TensorFlow Lite model (`predictions_lite`), compute softmax activations, and then print the prediction for the class with the highest computed probability."
      ]
    },
    {
      "cell_type": "code",
      "execution_count": null,
      "metadata": {
        "execution": {
          "iopub.execute_input": "2022-12-14T02:30:15.936458Z",
          "iopub.status.busy": "2022-12-14T02:30:15.936224Z",
          "iopub.status.idle": "2022-12-14T02:30:15.947613Z",
          "shell.execute_reply": "2022-12-14T02:30:15.947060Z"
        },
        "id": "sEqR27YcnFvc"
      },
      "outputs": [],
      "source": [
        "predictions_lite = classify_lite(sequential_1_input=img_array)['outputs']\n",
        "score_lite = tf.nn.softmax(predictions_lite)"
      ]
    },
    {
      "cell_type": "code",
      "execution_count": null,
      "metadata": {
        "execution": {
          "iopub.execute_input": "2022-12-14T02:30:15.950761Z",
          "iopub.status.busy": "2022-12-14T02:30:15.950500Z",
          "iopub.status.idle": "2022-12-14T02:30:15.954689Z",
          "shell.execute_reply": "2022-12-14T02:30:15.954124Z"
        },
        "id": "ZKP_GFeKUWb5",
        "outputId": "300812c9-a6ed-44cb-a6ac-bbf0aa8351a1"
      },
      "outputs": [
        {
          "name": "stdout",
          "output_type": "stream",
          "text": [
            "This image most likely belongs to sunflowers with a 97.33 percent confidence.\n"
          ]
        }
      ],
      "source": [
        "print(\n",
        "    \"This image most likely belongs to {} with a {:.2f} percent confidence.\"\n",
        "    .format(class_names[np.argmax(score_lite)], 100 * np.max(score_lite))\n",
        ")"
      ]
    },
    {
      "cell_type": "markdown",
      "metadata": {
        "id": "Poz_iYgeUg_U"
      },
      "source": [
        "The prediction generated by the lite model should be almost identical to the predictions generated by the original model:"
      ]
    },
    {
      "cell_type": "code",
      "execution_count": null,
      "metadata": {
        "execution": {
          "iopub.execute_input": "2022-12-14T02:30:15.957686Z",
          "iopub.status.busy": "2022-12-14T02:30:15.957453Z",
          "iopub.status.idle": "2022-12-14T02:30:15.961067Z",
          "shell.execute_reply": "2022-12-14T02:30:15.960439Z"
        },
        "id": "InXXDJL8UYC1",
        "outputId": "4eae4578-8554-47a8-e733-5eadae55e457"
      },
      "outputs": [
        {
          "name": "stdout",
          "output_type": "stream",
          "text": [
            "1.4305115e-06\n"
          ]
        }
      ],
      "source": [
        "print(np.max(np.abs(predictions - predictions_lite)))"
      ]
    },
    {
      "cell_type": "markdown",
      "metadata": {
        "id": "5hJzY8XijM7N"
      },
      "source": [
        "Of the five classes—`'daisy'`, `'dandelion'`, `'roses'`, `'sunflowers'`, and `'tulips'`—the model should predict the image belongs to sunflowers, which is the same result as before the TensorFlow Lite conversion.\n"
      ]
    },
    {
      "cell_type": "markdown",
      "metadata": {
        "id": "1RlfCY9v2_ir"
      },
      "source": [
        "## Next steps\n",
        "\n",
        "This tutorial showed how to train a model for image classification, test it, convert it to the TensorFlow Lite format for on-device applications (such as an image classification app), and perform inference with the TensorFlow Lite model with the Python API.\n",
        "\n",
        "You can learn more about TensorFlow Lite through [tutorials](https://www.tensorflow.org/lite/tutorials) and [guides](https://www.tensorflow.org/lite/guide)."
      ]
    }
  ],
  "metadata": {
    "colab": {
      "provenance": []
    },
    "kernelspec": {
      "display_name": "Python 3",
      "name": "python3"
    },
    "language_info": {
      "codemirror_mode": {
        "name": "ipython",
        "version": 3
      },
      "file_extension": ".py",
      "mimetype": "text/x-python",
      "name": "python",
      "nbconvert_exporter": "python",
      "pygments_lexer": "ipython3",
      "version": "3.10.10"
    },
    "widgets": {
      "application/vnd.jupyter.widget-state+json": {
        "04bee2cc9e5e4e4287c95909daa4d073": {
          "model_module": "@jupyter-widgets/base",
          "model_module_version": "1.2.0",
          "model_name": "LayoutModel",
          "state": {
            "_model_module": "@jupyter-widgets/base",
            "_model_module_version": "1.2.0",
            "_model_name": "LayoutModel",
            "_view_count": null,
            "_view_module": "@jupyter-widgets/base",
            "_view_module_version": "1.2.0",
            "_view_name": "LayoutView",
            "align_content": null,
            "align_items": null,
            "align_self": null,
            "border": null,
            "bottom": null,
            "display": null,
            "flex": null,
            "flex_flow": null,
            "grid_area": null,
            "grid_auto_columns": null,
            "grid_auto_flow": null,
            "grid_auto_rows": null,
            "grid_column": null,
            "grid_gap": null,
            "grid_row": null,
            "grid_template_areas": null,
            "grid_template_columns": null,
            "grid_template_rows": null,
            "height": null,
            "justify_content": null,
            "justify_items": null,
            "left": null,
            "margin": null,
            "max_height": null,
            "max_width": null,
            "min_height": null,
            "min_width": null,
            "object_fit": null,
            "object_position": null,
            "order": null,
            "overflow": null,
            "overflow_x": null,
            "overflow_y": null,
            "padding": null,
            "right": null,
            "top": null,
            "visibility": null,
            "width": null
          }
        },
        "056eec990ade4ba88b3d884d1d2b8bee": {
          "model_module": "@jupyter-widgets/controls",
          "model_module_version": "1.5.0",
          "model_name": "HTMLModel",
          "state": {
            "_dom_classes": [],
            "_model_module": "@jupyter-widgets/controls",
            "_model_module_version": "1.5.0",
            "_model_name": "HTMLModel",
            "_view_count": null,
            "_view_module": "@jupyter-widgets/controls",
            "_view_module_version": "1.5.0",
            "_view_name": "HTMLView",
            "description": "",
            "description_tooltip": null,
            "layout": "IPY_MODEL_13fc9a63642c46ff88582e87f3d4fee9",
            "placeholder": "​",
            "style": "IPY_MODEL_114f362e970640519985169c1899a87a",
            "value": " 2616/2616 [00:30&lt;00:00, 59.94it/s]"
          }
        },
        "0e2731c4de32404fafc6f1cad8e7214b": {
          "model_module": "@jupyter-widgets/controls",
          "model_module_version": "1.5.0",
          "model_name": "HTMLModel",
          "state": {
            "_dom_classes": [],
            "_model_module": "@jupyter-widgets/controls",
            "_model_module_version": "1.5.0",
            "_model_name": "HTMLModel",
            "_view_count": null,
            "_view_module": "@jupyter-widgets/controls",
            "_view_module_version": "1.5.0",
            "_view_name": "HTMLView",
            "description": "",
            "description_tooltip": null,
            "layout": "IPY_MODEL_4e3bb78528514ddea62942d934f6a67f",
            "placeholder": "​",
            "style": "IPY_MODEL_c0938fe5283e49d1a71a5ead9fdab672",
            "value": "100%"
          }
        },
        "114f362e970640519985169c1899a87a": {
          "model_module": "@jupyter-widgets/controls",
          "model_module_version": "1.5.0",
          "model_name": "DescriptionStyleModel",
          "state": {
            "_model_module": "@jupyter-widgets/controls",
            "_model_module_version": "1.5.0",
            "_model_name": "DescriptionStyleModel",
            "_view_count": null,
            "_view_module": "@jupyter-widgets/base",
            "_view_module_version": "1.2.0",
            "_view_name": "StyleView",
            "description_width": ""
          }
        },
        "131f371de10d4421a033eee3db9be4af": {
          "model_module": "@jupyter-widgets/controls",
          "model_module_version": "1.5.0",
          "model_name": "FloatProgressModel",
          "state": {
            "_dom_classes": [],
            "_model_module": "@jupyter-widgets/controls",
            "_model_module_version": "1.5.0",
            "_model_name": "FloatProgressModel",
            "_view_count": null,
            "_view_module": "@jupyter-widgets/controls",
            "_view_module_version": "1.5.0",
            "_view_name": "ProgressView",
            "bar_style": "success",
            "description": "",
            "description_tooltip": null,
            "layout": "IPY_MODEL_9dce2040ccb044269efceb689cac8448",
            "max": 516,
            "min": 0,
            "orientation": "horizontal",
            "style": "IPY_MODEL_7055dc56781145fb8534a150001112c2",
            "value": 516
          }
        },
        "13fc9a63642c46ff88582e87f3d4fee9": {
          "model_module": "@jupyter-widgets/base",
          "model_module_version": "1.2.0",
          "model_name": "LayoutModel",
          "state": {
            "_model_module": "@jupyter-widgets/base",
            "_model_module_version": "1.2.0",
            "_model_name": "LayoutModel",
            "_view_count": null,
            "_view_module": "@jupyter-widgets/base",
            "_view_module_version": "1.2.0",
            "_view_name": "LayoutView",
            "align_content": null,
            "align_items": null,
            "align_self": null,
            "border": null,
            "bottom": null,
            "display": null,
            "flex": null,
            "flex_flow": null,
            "grid_area": null,
            "grid_auto_columns": null,
            "grid_auto_flow": null,
            "grid_auto_rows": null,
            "grid_column": null,
            "grid_gap": null,
            "grid_row": null,
            "grid_template_areas": null,
            "grid_template_columns": null,
            "grid_template_rows": null,
            "height": null,
            "justify_content": null,
            "justify_items": null,
            "left": null,
            "margin": null,
            "max_height": null,
            "max_width": null,
            "min_height": null,
            "min_width": null,
            "object_fit": null,
            "object_position": null,
            "order": null,
            "overflow": null,
            "overflow_x": null,
            "overflow_y": null,
            "padding": null,
            "right": null,
            "top": null,
            "visibility": null,
            "width": null
          }
        },
        "35974a248bf74420841376329f273bee": {
          "model_module": "@jupyter-widgets/controls",
          "model_module_version": "1.5.0",
          "model_name": "DescriptionStyleModel",
          "state": {
            "_model_module": "@jupyter-widgets/controls",
            "_model_module_version": "1.5.0",
            "_model_name": "DescriptionStyleModel",
            "_view_count": null,
            "_view_module": "@jupyter-widgets/base",
            "_view_module_version": "1.2.0",
            "_view_name": "StyleView",
            "description_width": ""
          }
        },
        "37285d294d0541449a73ea05cc3272c5": {
          "model_module": "@jupyter-widgets/controls",
          "model_module_version": "1.5.0",
          "model_name": "HTMLModel",
          "state": {
            "_dom_classes": [],
            "_model_module": "@jupyter-widgets/controls",
            "_model_module_version": "1.5.0",
            "_model_name": "HTMLModel",
            "_view_count": null,
            "_view_module": "@jupyter-widgets/controls",
            "_view_module_version": "1.5.0",
            "_view_name": "HTMLView",
            "description": "",
            "description_tooltip": null,
            "layout": "IPY_MODEL_700854075eb64fb9a2b8b1e2837045a8",
            "placeholder": "​",
            "style": "IPY_MODEL_35974a248bf74420841376329f273bee",
            "value": "100%"
          }
        },
        "49dedaf571104213bf1e6e2b3017cc23": {
          "model_module": "@jupyter-widgets/controls",
          "model_module_version": "1.5.0",
          "model_name": "ProgressStyleModel",
          "state": {
            "_model_module": "@jupyter-widgets/controls",
            "_model_module_version": "1.5.0",
            "_model_name": "ProgressStyleModel",
            "_view_count": null,
            "_view_module": "@jupyter-widgets/base",
            "_view_module_version": "1.2.0",
            "_view_name": "StyleView",
            "bar_color": null,
            "description_width": ""
          }
        },
        "4e3bb78528514ddea62942d934f6a67f": {
          "model_module": "@jupyter-widgets/base",
          "model_module_version": "1.2.0",
          "model_name": "LayoutModel",
          "state": {
            "_model_module": "@jupyter-widgets/base",
            "_model_module_version": "1.2.0",
            "_model_name": "LayoutModel",
            "_view_count": null,
            "_view_module": "@jupyter-widgets/base",
            "_view_module_version": "1.2.0",
            "_view_name": "LayoutView",
            "align_content": null,
            "align_items": null,
            "align_self": null,
            "border": null,
            "bottom": null,
            "display": null,
            "flex": null,
            "flex_flow": null,
            "grid_area": null,
            "grid_auto_columns": null,
            "grid_auto_flow": null,
            "grid_auto_rows": null,
            "grid_column": null,
            "grid_gap": null,
            "grid_row": null,
            "grid_template_areas": null,
            "grid_template_columns": null,
            "grid_template_rows": null,
            "height": null,
            "justify_content": null,
            "justify_items": null,
            "left": null,
            "margin": null,
            "max_height": null,
            "max_width": null,
            "min_height": null,
            "min_width": null,
            "object_fit": null,
            "object_position": null,
            "order": null,
            "overflow": null,
            "overflow_x": null,
            "overflow_y": null,
            "padding": null,
            "right": null,
            "top": null,
            "visibility": null,
            "width": null
          }
        },
        "51c0706172aa414982d6ee7c703f8a6b": {
          "model_module": "@jupyter-widgets/controls",
          "model_module_version": "1.5.0",
          "model_name": "HBoxModel",
          "state": {
            "_dom_classes": [],
            "_model_module": "@jupyter-widgets/controls",
            "_model_module_version": "1.5.0",
            "_model_name": "HBoxModel",
            "_view_count": null,
            "_view_module": "@jupyter-widgets/controls",
            "_view_module_version": "1.5.0",
            "_view_name": "HBoxView",
            "box_style": "",
            "children": [
              "IPY_MODEL_37285d294d0541449a73ea05cc3272c5",
              "IPY_MODEL_6d967226e71f45b0927677c1370f056c",
              "IPY_MODEL_056eec990ade4ba88b3d884d1d2b8bee"
            ],
            "layout": "IPY_MODEL_ced950b58f1841a5ba8763229a35ac00"
          }
        },
        "523e7c4246194f06b621c344f1ad68fd": {
          "model_module": "@jupyter-widgets/controls",
          "model_module_version": "1.5.0",
          "model_name": "HTMLModel",
          "state": {
            "_dom_classes": [],
            "_model_module": "@jupyter-widgets/controls",
            "_model_module_version": "1.5.0",
            "_model_name": "HTMLModel",
            "_view_count": null,
            "_view_module": "@jupyter-widgets/controls",
            "_view_module_version": "1.5.0",
            "_view_name": "HTMLView",
            "description": "",
            "description_tooltip": null,
            "layout": "IPY_MODEL_ea668ac953014fc094e442bb38acbcbc",
            "placeholder": "​",
            "style": "IPY_MODEL_82a688c945d8454685a652b33b6ad3ea",
            "value": " 516/516 [00:04&lt;00:00, 72.82it/s]"
          }
        },
        "6d91e3946fab4065b574b0d732473533": {
          "model_module": "@jupyter-widgets/base",
          "model_module_version": "1.2.0",
          "model_name": "LayoutModel",
          "state": {
            "_model_module": "@jupyter-widgets/base",
            "_model_module_version": "1.2.0",
            "_model_name": "LayoutModel",
            "_view_count": null,
            "_view_module": "@jupyter-widgets/base",
            "_view_module_version": "1.2.0",
            "_view_name": "LayoutView",
            "align_content": null,
            "align_items": null,
            "align_self": null,
            "border": null,
            "bottom": null,
            "display": null,
            "flex": null,
            "flex_flow": null,
            "grid_area": null,
            "grid_auto_columns": null,
            "grid_auto_flow": null,
            "grid_auto_rows": null,
            "grid_column": null,
            "grid_gap": null,
            "grid_row": null,
            "grid_template_areas": null,
            "grid_template_columns": null,
            "grid_template_rows": null,
            "height": null,
            "justify_content": null,
            "justify_items": null,
            "left": null,
            "margin": null,
            "max_height": null,
            "max_width": null,
            "min_height": null,
            "min_width": null,
            "object_fit": null,
            "object_position": null,
            "order": null,
            "overflow": null,
            "overflow_x": null,
            "overflow_y": null,
            "padding": null,
            "right": null,
            "top": null,
            "visibility": null,
            "width": null
          }
        },
        "6d967226e71f45b0927677c1370f056c": {
          "model_module": "@jupyter-widgets/controls",
          "model_module_version": "1.5.0",
          "model_name": "FloatProgressModel",
          "state": {
            "_dom_classes": [],
            "_model_module": "@jupyter-widgets/controls",
            "_model_module_version": "1.5.0",
            "_model_name": "FloatProgressModel",
            "_view_count": null,
            "_view_module": "@jupyter-widgets/controls",
            "_view_module_version": "1.5.0",
            "_view_name": "ProgressView",
            "bar_style": "success",
            "description": "",
            "description_tooltip": null,
            "layout": "IPY_MODEL_6d91e3946fab4065b574b0d732473533",
            "max": 2616,
            "min": 0,
            "orientation": "horizontal",
            "style": "IPY_MODEL_49dedaf571104213bf1e6e2b3017cc23",
            "value": 2616
          }
        },
        "700854075eb64fb9a2b8b1e2837045a8": {
          "model_module": "@jupyter-widgets/base",
          "model_module_version": "1.2.0",
          "model_name": "LayoutModel",
          "state": {
            "_model_module": "@jupyter-widgets/base",
            "_model_module_version": "1.2.0",
            "_model_name": "LayoutModel",
            "_view_count": null,
            "_view_module": "@jupyter-widgets/base",
            "_view_module_version": "1.2.0",
            "_view_name": "LayoutView",
            "align_content": null,
            "align_items": null,
            "align_self": null,
            "border": null,
            "bottom": null,
            "display": null,
            "flex": null,
            "flex_flow": null,
            "grid_area": null,
            "grid_auto_columns": null,
            "grid_auto_flow": null,
            "grid_auto_rows": null,
            "grid_column": null,
            "grid_gap": null,
            "grid_row": null,
            "grid_template_areas": null,
            "grid_template_columns": null,
            "grid_template_rows": null,
            "height": null,
            "justify_content": null,
            "justify_items": null,
            "left": null,
            "margin": null,
            "max_height": null,
            "max_width": null,
            "min_height": null,
            "min_width": null,
            "object_fit": null,
            "object_position": null,
            "order": null,
            "overflow": null,
            "overflow_x": null,
            "overflow_y": null,
            "padding": null,
            "right": null,
            "top": null,
            "visibility": null,
            "width": null
          }
        },
        "7055dc56781145fb8534a150001112c2": {
          "model_module": "@jupyter-widgets/controls",
          "model_module_version": "1.5.0",
          "model_name": "ProgressStyleModel",
          "state": {
            "_model_module": "@jupyter-widgets/controls",
            "_model_module_version": "1.5.0",
            "_model_name": "ProgressStyleModel",
            "_view_count": null,
            "_view_module": "@jupyter-widgets/base",
            "_view_module_version": "1.2.0",
            "_view_name": "StyleView",
            "bar_color": null,
            "description_width": ""
          }
        },
        "82a688c945d8454685a652b33b6ad3ea": {
          "model_module": "@jupyter-widgets/controls",
          "model_module_version": "1.5.0",
          "model_name": "DescriptionStyleModel",
          "state": {
            "_model_module": "@jupyter-widgets/controls",
            "_model_module_version": "1.5.0",
            "_model_name": "DescriptionStyleModel",
            "_view_count": null,
            "_view_module": "@jupyter-widgets/base",
            "_view_module_version": "1.2.0",
            "_view_name": "StyleView",
            "description_width": ""
          }
        },
        "9dce2040ccb044269efceb689cac8448": {
          "model_module": "@jupyter-widgets/base",
          "model_module_version": "1.2.0",
          "model_name": "LayoutModel",
          "state": {
            "_model_module": "@jupyter-widgets/base",
            "_model_module_version": "1.2.0",
            "_model_name": "LayoutModel",
            "_view_count": null,
            "_view_module": "@jupyter-widgets/base",
            "_view_module_version": "1.2.0",
            "_view_name": "LayoutView",
            "align_content": null,
            "align_items": null,
            "align_self": null,
            "border": null,
            "bottom": null,
            "display": null,
            "flex": null,
            "flex_flow": null,
            "grid_area": null,
            "grid_auto_columns": null,
            "grid_auto_flow": null,
            "grid_auto_rows": null,
            "grid_column": null,
            "grid_gap": null,
            "grid_row": null,
            "grid_template_areas": null,
            "grid_template_columns": null,
            "grid_template_rows": null,
            "height": null,
            "justify_content": null,
            "justify_items": null,
            "left": null,
            "margin": null,
            "max_height": null,
            "max_width": null,
            "min_height": null,
            "min_width": null,
            "object_fit": null,
            "object_position": null,
            "order": null,
            "overflow": null,
            "overflow_x": null,
            "overflow_y": null,
            "padding": null,
            "right": null,
            "top": null,
            "visibility": null,
            "width": null
          }
        },
        "c0938fe5283e49d1a71a5ead9fdab672": {
          "model_module": "@jupyter-widgets/controls",
          "model_module_version": "1.5.0",
          "model_name": "DescriptionStyleModel",
          "state": {
            "_model_module": "@jupyter-widgets/controls",
            "_model_module_version": "1.5.0",
            "_model_name": "DescriptionStyleModel",
            "_view_count": null,
            "_view_module": "@jupyter-widgets/base",
            "_view_module_version": "1.2.0",
            "_view_name": "StyleView",
            "description_width": ""
          }
        },
        "ced950b58f1841a5ba8763229a35ac00": {
          "model_module": "@jupyter-widgets/base",
          "model_module_version": "1.2.0",
          "model_name": "LayoutModel",
          "state": {
            "_model_module": "@jupyter-widgets/base",
            "_model_module_version": "1.2.0",
            "_model_name": "LayoutModel",
            "_view_count": null,
            "_view_module": "@jupyter-widgets/base",
            "_view_module_version": "1.2.0",
            "_view_name": "LayoutView",
            "align_content": null,
            "align_items": null,
            "align_self": null,
            "border": null,
            "bottom": null,
            "display": null,
            "flex": null,
            "flex_flow": null,
            "grid_area": null,
            "grid_auto_columns": null,
            "grid_auto_flow": null,
            "grid_auto_rows": null,
            "grid_column": null,
            "grid_gap": null,
            "grid_row": null,
            "grid_template_areas": null,
            "grid_template_columns": null,
            "grid_template_rows": null,
            "height": null,
            "justify_content": null,
            "justify_items": null,
            "left": null,
            "margin": null,
            "max_height": null,
            "max_width": null,
            "min_height": null,
            "min_width": null,
            "object_fit": null,
            "object_position": null,
            "order": null,
            "overflow": null,
            "overflow_x": null,
            "overflow_y": null,
            "padding": null,
            "right": null,
            "top": null,
            "visibility": null,
            "width": null
          }
        },
        "df31ed3edb8143799a36cc0b42e13c65": {
          "model_module": "@jupyter-widgets/controls",
          "model_module_version": "1.5.0",
          "model_name": "HBoxModel",
          "state": {
            "_dom_classes": [],
            "_model_module": "@jupyter-widgets/controls",
            "_model_module_version": "1.5.0",
            "_model_name": "HBoxModel",
            "_view_count": null,
            "_view_module": "@jupyter-widgets/controls",
            "_view_module_version": "1.5.0",
            "_view_name": "HBoxView",
            "box_style": "",
            "children": [
              "IPY_MODEL_0e2731c4de32404fafc6f1cad8e7214b",
              "IPY_MODEL_131f371de10d4421a033eee3db9be4af",
              "IPY_MODEL_523e7c4246194f06b621c344f1ad68fd"
            ],
            "layout": "IPY_MODEL_04bee2cc9e5e4e4287c95909daa4d073"
          }
        },
        "ea668ac953014fc094e442bb38acbcbc": {
          "model_module": "@jupyter-widgets/base",
          "model_module_version": "1.2.0",
          "model_name": "LayoutModel",
          "state": {
            "_model_module": "@jupyter-widgets/base",
            "_model_module_version": "1.2.0",
            "_model_name": "LayoutModel",
            "_view_count": null,
            "_view_module": "@jupyter-widgets/base",
            "_view_module_version": "1.2.0",
            "_view_name": "LayoutView",
            "align_content": null,
            "align_items": null,
            "align_self": null,
            "border": null,
            "bottom": null,
            "display": null,
            "flex": null,
            "flex_flow": null,
            "grid_area": null,
            "grid_auto_columns": null,
            "grid_auto_flow": null,
            "grid_auto_rows": null,
            "grid_column": null,
            "grid_gap": null,
            "grid_row": null,
            "grid_template_areas": null,
            "grid_template_columns": null,
            "grid_template_rows": null,
            "height": null,
            "justify_content": null,
            "justify_items": null,
            "left": null,
            "margin": null,
            "max_height": null,
            "max_width": null,
            "min_height": null,
            "min_width": null,
            "object_fit": null,
            "object_position": null,
            "order": null,
            "overflow": null,
            "overflow_x": null,
            "overflow_y": null,
            "padding": null,
            "right": null,
            "top": null,
            "visibility": null,
            "width": null
          }
        }
      }
    }
  },
  "nbformat": 4,
  "nbformat_minor": 0
}
